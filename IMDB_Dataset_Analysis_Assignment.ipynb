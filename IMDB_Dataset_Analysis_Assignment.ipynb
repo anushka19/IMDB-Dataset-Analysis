{
  "cells": [
    {
      "cell_type": "markdown",
      "metadata": {
        "id": "ec6392bf"
      },
      "source": [
        "### Loading the libraries and dataset"
      ],
      "id": "ec6392bf"
    },
    {
      "cell_type": "code",
      "execution_count": 1,
      "metadata": {
        "id": "2f00d5cf"
      },
      "outputs": [],
      "source": [
        "import numpy as np\n",
        "import pandas as pd\n",
        "%matplotlib inline\n",
        "import matplotlib.pyplot as plt\n",
        "import seaborn as sns"
      ],
      "id": "2f00d5cf"
    },
    {
      "cell_type": "markdown",
      "metadata": {
        "id": "71LU28qaB1no"
      },
      "source": [
        "**Read the imdb csv file**"
      ],
      "id": "71LU28qaB1no"
    },
    {
      "cell_type": "code",
      "execution_count": 2,
      "metadata": {
        "id": "oe9-DpTNBBpq"
      },
      "outputs": [],
      "source": [
        "data = pd.read_csv('/content/drive/MyDrive/Data-Science-GFG/imdb.csv')"
      ],
      "id": "oe9-DpTNBBpq"
    },
    {
      "cell_type": "markdown",
      "metadata": {
        "id": "eGLK3Q2TB_Nb"
      },
      "source": [
        "**Total rows and columns using .shape**"
      ],
      "id": "eGLK3Q2TB_Nb"
    },
    {
      "cell_type": "code",
      "execution_count": 3,
      "metadata": {
        "colab": {
          "base_uri": "https://localhost:8080/"
        },
        "id": "Fg2YLPWCBCmP",
        "outputId": "604b5763-0255-44b8-9068-9a0e74d82b30"
      },
      "outputs": [
        {
          "output_type": "execute_result",
          "data": {
            "text/plain": [
              "(20789, 14)"
            ]
          },
          "metadata": {},
          "execution_count": 3
        }
      ],
      "source": [
        "data.shape"
      ],
      "id": "Fg2YLPWCBCmP"
    },
    {
      "cell_type": "markdown",
      "metadata": {
        "id": "euQX_-iACFUS"
      },
      "source": [
        "**Head - to check first 5 records to get insights**"
      ],
      "id": "euQX_-iACFUS"
    },
    {
      "cell_type": "code",
      "execution_count": 4,
      "metadata": {
        "colab": {
          "base_uri": "https://localhost:8080/",
          "height": 618
        },
        "id": "UkMTxU7OBCe9",
        "outputId": "2fb64fc5-1a6f-467b-9524-8fea587dc709"
      },
      "outputs": [
        {
          "output_type": "execute_result",
          "data": {
            "text/plain": [
              "           id                               name             year  rating  \\\n",
              "0   tt0118708                Beverly Hills Ninja           (1997)     5.5   \n",
              "1   tt1789846  Monster High: New Ghoul at School  (2010 TV Movie)     6.7   \n",
              "2  tt12204610      The Killer in the Guest House  (2020 TV Movie)     5.3   \n",
              "3   tt6708668                         Black Crab           (2022)     5.6   \n",
              "4   tt0453533                             Unrest       (I) (2006)     5.0   \n",
              "\n",
              "  certificate duration                     genre   votes gross_income  \\\n",
              "0       PG-13   88 min            Action, Comedy   41511   31,235,710   \n",
              "1       TV-Y7   23 min        Animation, Fantasy     567       11,000   \n",
              "2       TV-14   85 min                  Thriller     234      132,863   \n",
              "3       TV-MA  114 min  Action, Adventure, Drama  18,616   31,153,464   \n",
              "4           R   88 min          Horror, Thriller   8,066      215,300   \n",
              "\n",
              "          directors_id            directors_name  \\\n",
              "0            nm0240797              Dennis Dugan   \n",
              "1  nm0655637,nm0705779  Audu Paden,Eric Radomski   \n",
              "2            nm1046827           Tony Dean Smith   \n",
              "3            nm3515833                 Adam Berg   \n",
              "4            nm1118463          Jason Todd Ipson   \n",
              "\n",
              "                                  stars_id  \\\n",
              "0  nm0000394,nm0001733,nm0795225,nm0662511   \n",
              "1  nm1512156,nm1086483,nm0220635,nm1154161   \n",
              "2  nm0387581,nm4785386,nm2254636,nm5512848   \n",
              "3  nm0636426,nm1939580,nm1502469,nm4558335   \n",
              "4  nm0257598,nm1404049,nm1130845,nm0662475   \n",
              "\n",
              "                                          stars_name  \\\n",
              "0  Chris Farley,Nicollette Sheridan,Robin Shou,Na...   \n",
              "1  Kate Higgins,Salli Saffioti,Debi Derryberry,La...   \n",
              "2  Chelsea Hobbs,Marcus Rosner,Matthew Kevin Ande...   \n",
              "3     Noomi Rapace,Jakob Oftebro,Dar Salim,Erik Enge   \n",
              "4  Corri English,Scot Davis,Joshua Alba,Marisa Pe...   \n",
              "\n",
              "                                         description  \n",
              "0  A man tries to rescue a woman with a little he...  \n",
              "1  Frankie Stein begins at Monster High and follo...  \n",
              "2  A struggling fashion photographer unknowingly ...  \n",
              "3  In a post-apocalyptic world, six soldiers on a...  \n",
              "4  A young pathology med student suspects that th...  "
            ],
            "text/html": [
              "\n",
              "  <div id=\"df-d42e65ca-77a6-4bff-88fa-034e8efc0d0d\">\n",
              "    <div class=\"colab-df-container\">\n",
              "      <div>\n",
              "<style scoped>\n",
              "    .dataframe tbody tr th:only-of-type {\n",
              "        vertical-align: middle;\n",
              "    }\n",
              "\n",
              "    .dataframe tbody tr th {\n",
              "        vertical-align: top;\n",
              "    }\n",
              "\n",
              "    .dataframe thead th {\n",
              "        text-align: right;\n",
              "    }\n",
              "</style>\n",
              "<table border=\"1\" class=\"dataframe\">\n",
              "  <thead>\n",
              "    <tr style=\"text-align: right;\">\n",
              "      <th></th>\n",
              "      <th>id</th>\n",
              "      <th>name</th>\n",
              "      <th>year</th>\n",
              "      <th>rating</th>\n",
              "      <th>certificate</th>\n",
              "      <th>duration</th>\n",
              "      <th>genre</th>\n",
              "      <th>votes</th>\n",
              "      <th>gross_income</th>\n",
              "      <th>directors_id</th>\n",
              "      <th>directors_name</th>\n",
              "      <th>stars_id</th>\n",
              "      <th>stars_name</th>\n",
              "      <th>description</th>\n",
              "    </tr>\n",
              "  </thead>\n",
              "  <tbody>\n",
              "    <tr>\n",
              "      <th>0</th>\n",
              "      <td>tt0118708</td>\n",
              "      <td>Beverly Hills Ninja</td>\n",
              "      <td>(1997)</td>\n",
              "      <td>5.5</td>\n",
              "      <td>PG-13</td>\n",
              "      <td>88 min</td>\n",
              "      <td>Action, Comedy</td>\n",
              "      <td>41511</td>\n",
              "      <td>31,235,710</td>\n",
              "      <td>nm0240797</td>\n",
              "      <td>Dennis Dugan</td>\n",
              "      <td>nm0000394,nm0001733,nm0795225,nm0662511</td>\n",
              "      <td>Chris Farley,Nicollette Sheridan,Robin Shou,Na...</td>\n",
              "      <td>A man tries to rescue a woman with a little he...</td>\n",
              "    </tr>\n",
              "    <tr>\n",
              "      <th>1</th>\n",
              "      <td>tt1789846</td>\n",
              "      <td>Monster High: New Ghoul at School</td>\n",
              "      <td>(2010 TV Movie)</td>\n",
              "      <td>6.7</td>\n",
              "      <td>TV-Y7</td>\n",
              "      <td>23 min</td>\n",
              "      <td>Animation, Fantasy</td>\n",
              "      <td>567</td>\n",
              "      <td>11,000</td>\n",
              "      <td>nm0655637,nm0705779</td>\n",
              "      <td>Audu Paden,Eric Radomski</td>\n",
              "      <td>nm1512156,nm1086483,nm0220635,nm1154161</td>\n",
              "      <td>Kate Higgins,Salli Saffioti,Debi Derryberry,La...</td>\n",
              "      <td>Frankie Stein begins at Monster High and follo...</td>\n",
              "    </tr>\n",
              "    <tr>\n",
              "      <th>2</th>\n",
              "      <td>tt12204610</td>\n",
              "      <td>The Killer in the Guest House</td>\n",
              "      <td>(2020 TV Movie)</td>\n",
              "      <td>5.3</td>\n",
              "      <td>TV-14</td>\n",
              "      <td>85 min</td>\n",
              "      <td>Thriller</td>\n",
              "      <td>234</td>\n",
              "      <td>132,863</td>\n",
              "      <td>nm1046827</td>\n",
              "      <td>Tony Dean Smith</td>\n",
              "      <td>nm0387581,nm4785386,nm2254636,nm5512848</td>\n",
              "      <td>Chelsea Hobbs,Marcus Rosner,Matthew Kevin Ande...</td>\n",
              "      <td>A struggling fashion photographer unknowingly ...</td>\n",
              "    </tr>\n",
              "    <tr>\n",
              "      <th>3</th>\n",
              "      <td>tt6708668</td>\n",
              "      <td>Black Crab</td>\n",
              "      <td>(2022)</td>\n",
              "      <td>5.6</td>\n",
              "      <td>TV-MA</td>\n",
              "      <td>114 min</td>\n",
              "      <td>Action, Adventure, Drama</td>\n",
              "      <td>18,616</td>\n",
              "      <td>31,153,464</td>\n",
              "      <td>nm3515833</td>\n",
              "      <td>Adam Berg</td>\n",
              "      <td>nm0636426,nm1939580,nm1502469,nm4558335</td>\n",
              "      <td>Noomi Rapace,Jakob Oftebro,Dar Salim,Erik Enge</td>\n",
              "      <td>In a post-apocalyptic world, six soldiers on a...</td>\n",
              "    </tr>\n",
              "    <tr>\n",
              "      <th>4</th>\n",
              "      <td>tt0453533</td>\n",
              "      <td>Unrest</td>\n",
              "      <td>(I) (2006)</td>\n",
              "      <td>5.0</td>\n",
              "      <td>R</td>\n",
              "      <td>88 min</td>\n",
              "      <td>Horror, Thriller</td>\n",
              "      <td>8,066</td>\n",
              "      <td>215,300</td>\n",
              "      <td>nm1118463</td>\n",
              "      <td>Jason Todd Ipson</td>\n",
              "      <td>nm0257598,nm1404049,nm1130845,nm0662475</td>\n",
              "      <td>Corri English,Scot Davis,Joshua Alba,Marisa Pe...</td>\n",
              "      <td>A young pathology med student suspects that th...</td>\n",
              "    </tr>\n",
              "  </tbody>\n",
              "</table>\n",
              "</div>\n",
              "      <button class=\"colab-df-convert\" onclick=\"convertToInteractive('df-d42e65ca-77a6-4bff-88fa-034e8efc0d0d')\"\n",
              "              title=\"Convert this dataframe to an interactive table.\"\n",
              "              style=\"display:none;\">\n",
              "        \n",
              "  <svg xmlns=\"http://www.w3.org/2000/svg\" height=\"24px\"viewBox=\"0 0 24 24\"\n",
              "       width=\"24px\">\n",
              "    <path d=\"M0 0h24v24H0V0z\" fill=\"none\"/>\n",
              "    <path d=\"M18.56 5.44l.94 2.06.94-2.06 2.06-.94-2.06-.94-.94-2.06-.94 2.06-2.06.94zm-11 1L8.5 8.5l.94-2.06 2.06-.94-2.06-.94L8.5 2.5l-.94 2.06-2.06.94zm10 10l.94 2.06.94-2.06 2.06-.94-2.06-.94-.94-2.06-.94 2.06-2.06.94z\"/><path d=\"M17.41 7.96l-1.37-1.37c-.4-.4-.92-.59-1.43-.59-.52 0-1.04.2-1.43.59L10.3 9.45l-7.72 7.72c-.78.78-.78 2.05 0 2.83L4 21.41c.39.39.9.59 1.41.59.51 0 1.02-.2 1.41-.59l7.78-7.78 2.81-2.81c.8-.78.8-2.07 0-2.86zM5.41 20L4 18.59l7.72-7.72 1.47 1.35L5.41 20z\"/>\n",
              "  </svg>\n",
              "      </button>\n",
              "      \n",
              "  <style>\n",
              "    .colab-df-container {\n",
              "      display:flex;\n",
              "      flex-wrap:wrap;\n",
              "      gap: 12px;\n",
              "    }\n",
              "\n",
              "    .colab-df-convert {\n",
              "      background-color: #E8F0FE;\n",
              "      border: none;\n",
              "      border-radius: 50%;\n",
              "      cursor: pointer;\n",
              "      display: none;\n",
              "      fill: #1967D2;\n",
              "      height: 32px;\n",
              "      padding: 0 0 0 0;\n",
              "      width: 32px;\n",
              "    }\n",
              "\n",
              "    .colab-df-convert:hover {\n",
              "      background-color: #E2EBFA;\n",
              "      box-shadow: 0px 1px 2px rgba(60, 64, 67, 0.3), 0px 1px 3px 1px rgba(60, 64, 67, 0.15);\n",
              "      fill: #174EA6;\n",
              "    }\n",
              "\n",
              "    [theme=dark] .colab-df-convert {\n",
              "      background-color: #3B4455;\n",
              "      fill: #D2E3FC;\n",
              "    }\n",
              "\n",
              "    [theme=dark] .colab-df-convert:hover {\n",
              "      background-color: #434B5C;\n",
              "      box-shadow: 0px 1px 3px 1px rgba(0, 0, 0, 0.15);\n",
              "      filter: drop-shadow(0px 1px 2px rgba(0, 0, 0, 0.3));\n",
              "      fill: #FFFFFF;\n",
              "    }\n",
              "  </style>\n",
              "\n",
              "      <script>\n",
              "        const buttonEl =\n",
              "          document.querySelector('#df-d42e65ca-77a6-4bff-88fa-034e8efc0d0d button.colab-df-convert');\n",
              "        buttonEl.style.display =\n",
              "          google.colab.kernel.accessAllowed ? 'block' : 'none';\n",
              "\n",
              "        async function convertToInteractive(key) {\n",
              "          const element = document.querySelector('#df-d42e65ca-77a6-4bff-88fa-034e8efc0d0d');\n",
              "          const dataTable =\n",
              "            await google.colab.kernel.invokeFunction('convertToInteractive',\n",
              "                                                     [key], {});\n",
              "          if (!dataTable) return;\n",
              "\n",
              "          const docLinkHtml = 'Like what you see? Visit the ' +\n",
              "            '<a target=\"_blank\" href=https://colab.research.google.com/notebooks/data_table.ipynb>data table notebook</a>'\n",
              "            + ' to learn more about interactive tables.';\n",
              "          element.innerHTML = '';\n",
              "          dataTable['output_type'] = 'display_data';\n",
              "          await google.colab.output.renderOutput(dataTable, element);\n",
              "          const docLink = document.createElement('div');\n",
              "          docLink.innerHTML = docLinkHtml;\n",
              "          element.appendChild(docLink);\n",
              "        }\n",
              "      </script>\n",
              "    </div>\n",
              "  </div>\n",
              "  "
            ]
          },
          "metadata": {},
          "execution_count": 4
        }
      ],
      "source": [
        "data.head()"
      ],
      "id": "UkMTxU7OBCe9"
    },
    {
      "cell_type": "markdown",
      "metadata": {
        "id": "iXLOnbh_CcaZ"
      },
      "source": [
        "**To get all column names**"
      ],
      "id": "iXLOnbh_CcaZ"
    },
    {
      "cell_type": "code",
      "execution_count": 5,
      "metadata": {
        "colab": {
          "base_uri": "https://localhost:8080/"
        },
        "id": "ZASu4IkiBCA8",
        "outputId": "467e9ac2-094d-4f09-d431-5e492720758e"
      },
      "outputs": [
        {
          "output_type": "execute_result",
          "data": {
            "text/plain": [
              "Index(['id', 'name', 'year', 'rating', 'certificate', 'duration', 'genre',\n",
              "       'votes', 'gross_income', 'directors_id', 'directors_name', 'stars_id',\n",
              "       'stars_name', 'description'],\n",
              "      dtype='object')"
            ]
          },
          "metadata": {},
          "execution_count": 5
        }
      ],
      "source": [
        "data.columns"
      ],
      "id": "ZASu4IkiBCA8"
    },
    {
      "cell_type": "markdown",
      "metadata": {
        "id": "xKS2S94WCjRl"
      },
      "source": [
        "**To get the data type of each column**"
      ],
      "id": "xKS2S94WCjRl"
    },
    {
      "cell_type": "code",
      "execution_count": 6,
      "metadata": {
        "colab": {
          "base_uri": "https://localhost:8080/"
        },
        "id": "7KFSIH5iBpBx",
        "outputId": "7cf94a9c-6419-4acc-8adf-fe47bf6830d6"
      },
      "outputs": [
        {
          "output_type": "execute_result",
          "data": {
            "text/plain": [
              "id                 object\n",
              "name               object\n",
              "year               object\n",
              "rating            float64\n",
              "certificate        object\n",
              "duration           object\n",
              "genre              object\n",
              "votes              object\n",
              "gross_income       object\n",
              "directors_id       object\n",
              "directors_name     object\n",
              "stars_id           object\n",
              "stars_name         object\n",
              "description        object\n",
              "dtype: object"
            ]
          },
          "metadata": {},
          "execution_count": 6
        }
      ],
      "source": [
        "data.dtypes"
      ],
      "id": "7KFSIH5iBpBx"
    },
    {
      "cell_type": "markdown",
      "source": [
        "**To find details about the data**"
      ],
      "metadata": {
        "id": "6cj-CsA3ftyO"
      },
      "id": "6cj-CsA3ftyO"
    },
    {
      "cell_type": "code",
      "source": [
        "data.info()"
      ],
      "metadata": {
        "colab": {
          "base_uri": "https://localhost:8080/"
        },
        "id": "gL52O2x4fm6W",
        "outputId": "6dc6eb1b-fe69-4984-dbfa-b6de59c5486b"
      },
      "id": "gL52O2x4fm6W",
      "execution_count": 7,
      "outputs": [
        {
          "output_type": "stream",
          "name": "stdout",
          "text": [
            "<class 'pandas.core.frame.DataFrame'>\n",
            "RangeIndex: 20789 entries, 0 to 20788\n",
            "Data columns (total 14 columns):\n",
            " #   Column          Non-Null Count  Dtype  \n",
            "---  ------          --------------  -----  \n",
            " 0   id              20789 non-null  object \n",
            " 1   name            20789 non-null  object \n",
            " 2   year            20789 non-null  object \n",
            " 3   rating          20789 non-null  float64\n",
            " 4   certificate     20789 non-null  object \n",
            " 5   duration        20789 non-null  object \n",
            " 6   genre           20789 non-null  object \n",
            " 7   votes           20789 non-null  object \n",
            " 8   gross_income    20789 non-null  object \n",
            " 9   directors_id    20789 non-null  object \n",
            " 10  directors_name  20789 non-null  object \n",
            " 11  stars_id        20789 non-null  object \n",
            " 12  stars_name      20789 non-null  object \n",
            " 13  description     20789 non-null  object \n",
            "dtypes: float64(1), object(13)\n",
            "memory usage: 2.2+ MB\n"
          ]
        }
      ]
    },
    {
      "cell_type": "markdown",
      "source": [
        "**To check for null values in each column**"
      ],
      "metadata": {
        "id": "QXVFNaD9fU6m"
      },
      "id": "QXVFNaD9fU6m"
    },
    {
      "cell_type": "code",
      "execution_count": 8,
      "metadata": {
        "colab": {
          "base_uri": "https://localhost:8080/"
        },
        "id": "R38asCLDBpAD",
        "outputId": "14cd5125-3a29-4ce2-9776-fc7948821225"
      },
      "outputs": [
        {
          "output_type": "execute_result",
          "data": {
            "text/plain": [
              "id                0\n",
              "name              0\n",
              "year              0\n",
              "rating            0\n",
              "certificate       0\n",
              "duration          0\n",
              "genre             0\n",
              "votes             0\n",
              "gross_income      0\n",
              "directors_id      0\n",
              "directors_name    0\n",
              "stars_id          0\n",
              "stars_name        0\n",
              "description       0\n",
              "dtype: int64"
            ]
          },
          "metadata": {},
          "execution_count": 8
        }
      ],
      "source": [
        "data.isnull().sum()"
      ],
      "id": "R38asCLDBpAD"
    },
    {
      "cell_type": "markdown",
      "source": [
        "**Basic insights of the data**"
      ],
      "metadata": {
        "id": "7bJ56cRqgFR0"
      },
      "id": "7bJ56cRqgFR0"
    },
    {
      "cell_type": "code",
      "execution_count": 9,
      "metadata": {
        "colab": {
          "base_uri": "https://localhost:8080/",
          "height": 394
        },
        "id": "PNJZHH29Bo7-",
        "outputId": "e4d35203-8bca-4fd7-ea95-344c1379dfde"
      },
      "outputs": [
        {
          "output_type": "execute_result",
          "data": {
            "text/plain": [
              "               id                 name    year        rating certificate  \\\n",
              "count       20789                20789   20789  20789.000000       20789   \n",
              "unique      20789                20789     418           NaN          32   \n",
              "top     tt0118708  Beverly Hills Ninja  (2018)           NaN           R   \n",
              "freq            1                    1     635           NaN        6972   \n",
              "mean          NaN                  NaN     NaN      6.011727         NaN   \n",
              "std           NaN                  NaN     NaN      1.240846         NaN   \n",
              "min           NaN                  NaN     NaN      1.100000         NaN   \n",
              "25%           NaN                  NaN     NaN      5.300000         NaN   \n",
              "50%           NaN                  NaN     NaN      6.200000         NaN   \n",
              "75%           NaN                  NaN     NaN      6.900000         NaN   \n",
              "max           NaN                  NaN     NaN     11.000000         NaN   \n",
              "\n",
              "       duration                 genre  votes gross_income directors_id  \\\n",
              "count     20789                 20789  20789        20789        20789   \n",
              "unique      255                   919  13561         9669        10591   \n",
              "top      90 min  Action, Crime, Drama    128    1,000,000    nm0000142   \n",
              "freq       1075                   741     18           67           35   \n",
              "mean        NaN                   NaN    NaN          NaN          NaN   \n",
              "std         NaN                   NaN    NaN          NaN          NaN   \n",
              "min         NaN                   NaN    NaN          NaN          NaN   \n",
              "25%         NaN                   NaN    NaN          NaN          NaN   \n",
              "50%         NaN                   NaN    NaN          NaN          NaN   \n",
              "75%         NaN                   NaN    NaN          NaN          NaN   \n",
              "max         NaN                   NaN    NaN          NaN          NaN   \n",
              "\n",
              "        directors_name   stars_id stars_name description  \n",
              "count            20789      20789      20789       20789  \n",
              "unique           10572      20656      20656       20760  \n",
              "top     Clint Eastwood  Anonymous  nm0000000  Add a Plot  \n",
              "freq                35         48         48          24  \n",
              "mean               NaN        NaN        NaN         NaN  \n",
              "std                NaN        NaN        NaN         NaN  \n",
              "min                NaN        NaN        NaN         NaN  \n",
              "25%                NaN        NaN        NaN         NaN  \n",
              "50%                NaN        NaN        NaN         NaN  \n",
              "75%                NaN        NaN        NaN         NaN  \n",
              "max                NaN        NaN        NaN         NaN  "
            ],
            "text/html": [
              "\n",
              "  <div id=\"df-f52775d2-bd7b-43c5-964d-5699aa879b57\">\n",
              "    <div class=\"colab-df-container\">\n",
              "      <div>\n",
              "<style scoped>\n",
              "    .dataframe tbody tr th:only-of-type {\n",
              "        vertical-align: middle;\n",
              "    }\n",
              "\n",
              "    .dataframe tbody tr th {\n",
              "        vertical-align: top;\n",
              "    }\n",
              "\n",
              "    .dataframe thead th {\n",
              "        text-align: right;\n",
              "    }\n",
              "</style>\n",
              "<table border=\"1\" class=\"dataframe\">\n",
              "  <thead>\n",
              "    <tr style=\"text-align: right;\">\n",
              "      <th></th>\n",
              "      <th>id</th>\n",
              "      <th>name</th>\n",
              "      <th>year</th>\n",
              "      <th>rating</th>\n",
              "      <th>certificate</th>\n",
              "      <th>duration</th>\n",
              "      <th>genre</th>\n",
              "      <th>votes</th>\n",
              "      <th>gross_income</th>\n",
              "      <th>directors_id</th>\n",
              "      <th>directors_name</th>\n",
              "      <th>stars_id</th>\n",
              "      <th>stars_name</th>\n",
              "      <th>description</th>\n",
              "    </tr>\n",
              "  </thead>\n",
              "  <tbody>\n",
              "    <tr>\n",
              "      <th>count</th>\n",
              "      <td>20789</td>\n",
              "      <td>20789</td>\n",
              "      <td>20789</td>\n",
              "      <td>20789.000000</td>\n",
              "      <td>20789</td>\n",
              "      <td>20789</td>\n",
              "      <td>20789</td>\n",
              "      <td>20789</td>\n",
              "      <td>20789</td>\n",
              "      <td>20789</td>\n",
              "      <td>20789</td>\n",
              "      <td>20789</td>\n",
              "      <td>20789</td>\n",
              "      <td>20789</td>\n",
              "    </tr>\n",
              "    <tr>\n",
              "      <th>unique</th>\n",
              "      <td>20789</td>\n",
              "      <td>20789</td>\n",
              "      <td>418</td>\n",
              "      <td>NaN</td>\n",
              "      <td>32</td>\n",
              "      <td>255</td>\n",
              "      <td>919</td>\n",
              "      <td>13561</td>\n",
              "      <td>9669</td>\n",
              "      <td>10591</td>\n",
              "      <td>10572</td>\n",
              "      <td>20656</td>\n",
              "      <td>20656</td>\n",
              "      <td>20760</td>\n",
              "    </tr>\n",
              "    <tr>\n",
              "      <th>top</th>\n",
              "      <td>tt0118708</td>\n",
              "      <td>Beverly Hills Ninja</td>\n",
              "      <td>(2018)</td>\n",
              "      <td>NaN</td>\n",
              "      <td>R</td>\n",
              "      <td>90 min</td>\n",
              "      <td>Action, Crime, Drama</td>\n",
              "      <td>128</td>\n",
              "      <td>1,000,000</td>\n",
              "      <td>nm0000142</td>\n",
              "      <td>Clint Eastwood</td>\n",
              "      <td>Anonymous</td>\n",
              "      <td>nm0000000</td>\n",
              "      <td>Add a Plot</td>\n",
              "    </tr>\n",
              "    <tr>\n",
              "      <th>freq</th>\n",
              "      <td>1</td>\n",
              "      <td>1</td>\n",
              "      <td>635</td>\n",
              "      <td>NaN</td>\n",
              "      <td>6972</td>\n",
              "      <td>1075</td>\n",
              "      <td>741</td>\n",
              "      <td>18</td>\n",
              "      <td>67</td>\n",
              "      <td>35</td>\n",
              "      <td>35</td>\n",
              "      <td>48</td>\n",
              "      <td>48</td>\n",
              "      <td>24</td>\n",
              "    </tr>\n",
              "    <tr>\n",
              "      <th>mean</th>\n",
              "      <td>NaN</td>\n",
              "      <td>NaN</td>\n",
              "      <td>NaN</td>\n",
              "      <td>6.011727</td>\n",
              "      <td>NaN</td>\n",
              "      <td>NaN</td>\n",
              "      <td>NaN</td>\n",
              "      <td>NaN</td>\n",
              "      <td>NaN</td>\n",
              "      <td>NaN</td>\n",
              "      <td>NaN</td>\n",
              "      <td>NaN</td>\n",
              "      <td>NaN</td>\n",
              "      <td>NaN</td>\n",
              "    </tr>\n",
              "    <tr>\n",
              "      <th>std</th>\n",
              "      <td>NaN</td>\n",
              "      <td>NaN</td>\n",
              "      <td>NaN</td>\n",
              "      <td>1.240846</td>\n",
              "      <td>NaN</td>\n",
              "      <td>NaN</td>\n",
              "      <td>NaN</td>\n",
              "      <td>NaN</td>\n",
              "      <td>NaN</td>\n",
              "      <td>NaN</td>\n",
              "      <td>NaN</td>\n",
              "      <td>NaN</td>\n",
              "      <td>NaN</td>\n",
              "      <td>NaN</td>\n",
              "    </tr>\n",
              "    <tr>\n",
              "      <th>min</th>\n",
              "      <td>NaN</td>\n",
              "      <td>NaN</td>\n",
              "      <td>NaN</td>\n",
              "      <td>1.100000</td>\n",
              "      <td>NaN</td>\n",
              "      <td>NaN</td>\n",
              "      <td>NaN</td>\n",
              "      <td>NaN</td>\n",
              "      <td>NaN</td>\n",
              "      <td>NaN</td>\n",
              "      <td>NaN</td>\n",
              "      <td>NaN</td>\n",
              "      <td>NaN</td>\n",
              "      <td>NaN</td>\n",
              "    </tr>\n",
              "    <tr>\n",
              "      <th>25%</th>\n",
              "      <td>NaN</td>\n",
              "      <td>NaN</td>\n",
              "      <td>NaN</td>\n",
              "      <td>5.300000</td>\n",
              "      <td>NaN</td>\n",
              "      <td>NaN</td>\n",
              "      <td>NaN</td>\n",
              "      <td>NaN</td>\n",
              "      <td>NaN</td>\n",
              "      <td>NaN</td>\n",
              "      <td>NaN</td>\n",
              "      <td>NaN</td>\n",
              "      <td>NaN</td>\n",
              "      <td>NaN</td>\n",
              "    </tr>\n",
              "    <tr>\n",
              "      <th>50%</th>\n",
              "      <td>NaN</td>\n",
              "      <td>NaN</td>\n",
              "      <td>NaN</td>\n",
              "      <td>6.200000</td>\n",
              "      <td>NaN</td>\n",
              "      <td>NaN</td>\n",
              "      <td>NaN</td>\n",
              "      <td>NaN</td>\n",
              "      <td>NaN</td>\n",
              "      <td>NaN</td>\n",
              "      <td>NaN</td>\n",
              "      <td>NaN</td>\n",
              "      <td>NaN</td>\n",
              "      <td>NaN</td>\n",
              "    </tr>\n",
              "    <tr>\n",
              "      <th>75%</th>\n",
              "      <td>NaN</td>\n",
              "      <td>NaN</td>\n",
              "      <td>NaN</td>\n",
              "      <td>6.900000</td>\n",
              "      <td>NaN</td>\n",
              "      <td>NaN</td>\n",
              "      <td>NaN</td>\n",
              "      <td>NaN</td>\n",
              "      <td>NaN</td>\n",
              "      <td>NaN</td>\n",
              "      <td>NaN</td>\n",
              "      <td>NaN</td>\n",
              "      <td>NaN</td>\n",
              "      <td>NaN</td>\n",
              "    </tr>\n",
              "    <tr>\n",
              "      <th>max</th>\n",
              "      <td>NaN</td>\n",
              "      <td>NaN</td>\n",
              "      <td>NaN</td>\n",
              "      <td>11.000000</td>\n",
              "      <td>NaN</td>\n",
              "      <td>NaN</td>\n",
              "      <td>NaN</td>\n",
              "      <td>NaN</td>\n",
              "      <td>NaN</td>\n",
              "      <td>NaN</td>\n",
              "      <td>NaN</td>\n",
              "      <td>NaN</td>\n",
              "      <td>NaN</td>\n",
              "      <td>NaN</td>\n",
              "    </tr>\n",
              "  </tbody>\n",
              "</table>\n",
              "</div>\n",
              "      <button class=\"colab-df-convert\" onclick=\"convertToInteractive('df-f52775d2-bd7b-43c5-964d-5699aa879b57')\"\n",
              "              title=\"Convert this dataframe to an interactive table.\"\n",
              "              style=\"display:none;\">\n",
              "        \n",
              "  <svg xmlns=\"http://www.w3.org/2000/svg\" height=\"24px\"viewBox=\"0 0 24 24\"\n",
              "       width=\"24px\">\n",
              "    <path d=\"M0 0h24v24H0V0z\" fill=\"none\"/>\n",
              "    <path d=\"M18.56 5.44l.94 2.06.94-2.06 2.06-.94-2.06-.94-.94-2.06-.94 2.06-2.06.94zm-11 1L8.5 8.5l.94-2.06 2.06-.94-2.06-.94L8.5 2.5l-.94 2.06-2.06.94zm10 10l.94 2.06.94-2.06 2.06-.94-2.06-.94-.94-2.06-.94 2.06-2.06.94z\"/><path d=\"M17.41 7.96l-1.37-1.37c-.4-.4-.92-.59-1.43-.59-.52 0-1.04.2-1.43.59L10.3 9.45l-7.72 7.72c-.78.78-.78 2.05 0 2.83L4 21.41c.39.39.9.59 1.41.59.51 0 1.02-.2 1.41-.59l7.78-7.78 2.81-2.81c.8-.78.8-2.07 0-2.86zM5.41 20L4 18.59l7.72-7.72 1.47 1.35L5.41 20z\"/>\n",
              "  </svg>\n",
              "      </button>\n",
              "      \n",
              "  <style>\n",
              "    .colab-df-container {\n",
              "      display:flex;\n",
              "      flex-wrap:wrap;\n",
              "      gap: 12px;\n",
              "    }\n",
              "\n",
              "    .colab-df-convert {\n",
              "      background-color: #E8F0FE;\n",
              "      border: none;\n",
              "      border-radius: 50%;\n",
              "      cursor: pointer;\n",
              "      display: none;\n",
              "      fill: #1967D2;\n",
              "      height: 32px;\n",
              "      padding: 0 0 0 0;\n",
              "      width: 32px;\n",
              "    }\n",
              "\n",
              "    .colab-df-convert:hover {\n",
              "      background-color: #E2EBFA;\n",
              "      box-shadow: 0px 1px 2px rgba(60, 64, 67, 0.3), 0px 1px 3px 1px rgba(60, 64, 67, 0.15);\n",
              "      fill: #174EA6;\n",
              "    }\n",
              "\n",
              "    [theme=dark] .colab-df-convert {\n",
              "      background-color: #3B4455;\n",
              "      fill: #D2E3FC;\n",
              "    }\n",
              "\n",
              "    [theme=dark] .colab-df-convert:hover {\n",
              "      background-color: #434B5C;\n",
              "      box-shadow: 0px 1px 3px 1px rgba(0, 0, 0, 0.15);\n",
              "      filter: drop-shadow(0px 1px 2px rgba(0, 0, 0, 0.3));\n",
              "      fill: #FFFFFF;\n",
              "    }\n",
              "  </style>\n",
              "\n",
              "      <script>\n",
              "        const buttonEl =\n",
              "          document.querySelector('#df-f52775d2-bd7b-43c5-964d-5699aa879b57 button.colab-df-convert');\n",
              "        buttonEl.style.display =\n",
              "          google.colab.kernel.accessAllowed ? 'block' : 'none';\n",
              "\n",
              "        async function convertToInteractive(key) {\n",
              "          const element = document.querySelector('#df-f52775d2-bd7b-43c5-964d-5699aa879b57');\n",
              "          const dataTable =\n",
              "            await google.colab.kernel.invokeFunction('convertToInteractive',\n",
              "                                                     [key], {});\n",
              "          if (!dataTable) return;\n",
              "\n",
              "          const docLinkHtml = 'Like what you see? Visit the ' +\n",
              "            '<a target=\"_blank\" href=https://colab.research.google.com/notebooks/data_table.ipynb>data table notebook</a>'\n",
              "            + ' to learn more about interactive tables.';\n",
              "          element.innerHTML = '';\n",
              "          dataTable['output_type'] = 'display_data';\n",
              "          await google.colab.output.renderOutput(dataTable, element);\n",
              "          const docLink = document.createElement('div');\n",
              "          docLink.innerHTML = docLinkHtml;\n",
              "          element.appendChild(docLink);\n",
              "        }\n",
              "      </script>\n",
              "    </div>\n",
              "  </div>\n",
              "  "
            ]
          },
          "metadata": {},
          "execution_count": 9
        }
      ],
      "source": [
        "data.describe(include = 'all')"
      ],
      "id": "PNJZHH29Bo7-"
    },
    {
      "cell_type": "code",
      "execution_count": 10,
      "metadata": {
        "colab": {
          "base_uri": "https://localhost:8080/"
        },
        "id": "cpeXg-pNBo51",
        "outputId": "b8a5024c-c1ca-4298-b4de-3e59ed9470dc"
      },
      "outputs": [
        {
          "output_type": "execute_result",
          "data": {
            "text/plain": [
              "Index(['id', 'name', 'year', 'rating', 'certificate', 'duration', 'genre',\n",
              "       'votes', 'gross_income', 'directors_id', 'directors_name', 'stars_id',\n",
              "       'stars_name', 'description'],\n",
              "      dtype='object')"
            ]
          },
          "metadata": {},
          "execution_count": 10
        }
      ],
      "source": [
        "data.columns"
      ],
      "id": "cpeXg-pNBo51"
    },
    {
      "cell_type": "markdown",
      "metadata": {
        "id": "e724b9ee"
      },
      "source": [
        "### 1. How many different Genre of Movies are there in this dataset?"
      ],
      "id": "e724b9ee"
    },
    {
      "cell_type": "markdown",
      "source": [
        "**df - where extra generes column is added to split them**"
      ],
      "metadata": {
        "id": "StLx3YBRiam0"
      },
      "id": "StLx3YBRiam0"
    },
    {
      "cell_type": "code",
      "execution_count": 11,
      "metadata": {
        "colab": {
          "base_uri": "https://localhost:8080/",
          "height": 1000
        },
        "id": "dc33fcd6",
        "outputId": "9acddcd5-6956-4791-cdad-1906ee057045"
      },
      "outputs": [
        {
          "output_type": "execute_result",
          "data": {
            "text/plain": [
              "               id                               name             year  rating  \\\n",
              "0       tt0118708                Beverly Hills Ninja           (1997)     5.5   \n",
              "0       tt0118708                Beverly Hills Ninja           (1997)     5.5   \n",
              "1       tt1789846  Monster High: New Ghoul at School  (2010 TV Movie)     6.7   \n",
              "1       tt1789846  Monster High: New Ghoul at School  (2010 TV Movie)     6.7   \n",
              "2      tt12204610      The Killer in the Guest House  (2020 TV Movie)     5.3   \n",
              "...           ...                                ...              ...     ...   \n",
              "20787   tt4177856       Elliot the Littlest Reindeer           (2018)     4.9   \n",
              "20787   tt4177856       Elliot the Littlest Reindeer           (2018)     4.9   \n",
              "20788   tt0056172                 Lawrence of Arabia           (1962)     8.3   \n",
              "20788   tt0056172                 Lawrence of Arabia           (1962)     8.3   \n",
              "20788   tt0056172                 Lawrence of Arabia           (1962)     8.3   \n",
              "\n",
              "      certificate duration                        genre   votes gross_income  \\\n",
              "0           PG-13   88 min               Action, Comedy   41511   31,235,710   \n",
              "0           PG-13   88 min               Action, Comedy   41511   31,235,710   \n",
              "1           TV-Y7   23 min           Animation, Fantasy     567       11,000   \n",
              "1           TV-Y7   23 min           Animation, Fantasy     567       11,000   \n",
              "2           TV-14   85 min                     Thriller     234      132,863   \n",
              "...           ...      ...                          ...     ...          ...   \n",
              "20787          PG   89 min            Animation, Family   1,079      190,581   \n",
              "20787          PG   89 min            Animation, Family   1,079      190,581   \n",
              "20788    Approved  218 min  Adventure, Biography, Drama  289377   44,824,144   \n",
              "20788    Approved  218 min  Adventure, Biography, Drama  289377   44,824,144   \n",
              "20788    Approved  218 min  Adventure, Biography, Drama  289377   44,824,144   \n",
              "\n",
              "              directors_id            directors_name  \\\n",
              "0                nm0240797              Dennis Dugan   \n",
              "0                nm0240797              Dennis Dugan   \n",
              "1      nm0655637,nm0705779  Audu Paden,Eric Radomski   \n",
              "1      nm0655637,nm0705779  Audu Paden,Eric Radomski   \n",
              "2                nm1046827           Tony Dean Smith   \n",
              "...                    ...                       ...   \n",
              "20787            nm4488703         Jennifer Westcott   \n",
              "20787            nm4488703         Jennifer Westcott   \n",
              "20788            nm0000180                David Lean   \n",
              "20788            nm0000180                David Lean   \n",
              "20788            nm0000180                David Lean   \n",
              "\n",
              "                                      stars_id  \\\n",
              "0      nm0000394,nm0001733,nm0795225,nm0662511   \n",
              "0      nm0000394,nm0001733,nm0795225,nm0662511   \n",
              "1      nm1512156,nm1086483,nm0220635,nm1154161   \n",
              "1      nm1512156,nm1086483,nm0220635,nm1154161   \n",
              "2      nm0387581,nm4785386,nm2254636,nm5512848   \n",
              "...                                        ...   \n",
              "20787  nm1072555,nm1242688,nm0001737,nm0000092   \n",
              "20787  nm1072555,nm1242688,nm0001737,nm0000092   \n",
              "20788  nm0000564,nm0000027,nm0000063,nm0370144   \n",
              "20788  nm0000564,nm0000027,nm0000063,nm0370144   \n",
              "20788  nm0000564,nm0000027,nm0000063,nm0370144   \n",
              "\n",
              "                                              stars_name  \\\n",
              "0      Chris Farley,Nicollette Sheridan,Robin Shou,Na...   \n",
              "0      Chris Farley,Nicollette Sheridan,Robin Shou,Na...   \n",
              "1      Kate Higgins,Salli Saffioti,Debi Derryberry,La...   \n",
              "1      Kate Higgins,Salli Saffioti,Debi Derryberry,La...   \n",
              "2      Chelsea Hobbs,Marcus Rosner,Matthew Kevin Ande...   \n",
              "...                                                  ...   \n",
              "20787  Morena Baccarin,Josh Hutcherson,Martin Short,J...   \n",
              "20787  Morena Baccarin,Josh Hutcherson,Martin Short,J...   \n",
              "20788  Peter O'Toole,Alec Guinness,Anthony Quinn,Jack...   \n",
              "20788  Peter O'Toole,Alec Guinness,Anthony Quinn,Jack...   \n",
              "20788  Peter O'Toole,Alec Guinness,Anthony Quinn,Jack...   \n",
              "\n",
              "                                             description     genres  \n",
              "0      A man tries to rescue a woman with a little he...     Action  \n",
              "0      A man tries to rescue a woman with a little he...     Comedy  \n",
              "1      Frankie Stein begins at Monster High and follo...  Animation  \n",
              "1      Frankie Stein begins at Monster High and follo...    Fantasy  \n",
              "2      A struggling fashion photographer unknowingly ...   Thriller  \n",
              "...                                                  ...        ...  \n",
              "20787  When Blitzen announces his retirement on Decem...  Animation  \n",
              "20787  When Blitzen announces his retirement on Decem...     Family  \n",
              "20788  The story of T.E. Lawrence, the English office...  Adventure  \n",
              "20788  The story of T.E. Lawrence, the English office...  Biography  \n",
              "20788  The story of T.E. Lawrence, the English office...      Drama  \n",
              "\n",
              "[53854 rows x 15 columns]"
            ],
            "text/html": [
              "\n",
              "  <div id=\"df-72d85ec4-40c1-4e6f-bc4a-9e37e5539d33\">\n",
              "    <div class=\"colab-df-container\">\n",
              "      <div>\n",
              "<style scoped>\n",
              "    .dataframe tbody tr th:only-of-type {\n",
              "        vertical-align: middle;\n",
              "    }\n",
              "\n",
              "    .dataframe tbody tr th {\n",
              "        vertical-align: top;\n",
              "    }\n",
              "\n",
              "    .dataframe thead th {\n",
              "        text-align: right;\n",
              "    }\n",
              "</style>\n",
              "<table border=\"1\" class=\"dataframe\">\n",
              "  <thead>\n",
              "    <tr style=\"text-align: right;\">\n",
              "      <th></th>\n",
              "      <th>id</th>\n",
              "      <th>name</th>\n",
              "      <th>year</th>\n",
              "      <th>rating</th>\n",
              "      <th>certificate</th>\n",
              "      <th>duration</th>\n",
              "      <th>genre</th>\n",
              "      <th>votes</th>\n",
              "      <th>gross_income</th>\n",
              "      <th>directors_id</th>\n",
              "      <th>directors_name</th>\n",
              "      <th>stars_id</th>\n",
              "      <th>stars_name</th>\n",
              "      <th>description</th>\n",
              "      <th>genres</th>\n",
              "    </tr>\n",
              "  </thead>\n",
              "  <tbody>\n",
              "    <tr>\n",
              "      <th>0</th>\n",
              "      <td>tt0118708</td>\n",
              "      <td>Beverly Hills Ninja</td>\n",
              "      <td>(1997)</td>\n",
              "      <td>5.5</td>\n",
              "      <td>PG-13</td>\n",
              "      <td>88 min</td>\n",
              "      <td>Action, Comedy</td>\n",
              "      <td>41511</td>\n",
              "      <td>31,235,710</td>\n",
              "      <td>nm0240797</td>\n",
              "      <td>Dennis Dugan</td>\n",
              "      <td>nm0000394,nm0001733,nm0795225,nm0662511</td>\n",
              "      <td>Chris Farley,Nicollette Sheridan,Robin Shou,Na...</td>\n",
              "      <td>A man tries to rescue a woman with a little he...</td>\n",
              "      <td>Action</td>\n",
              "    </tr>\n",
              "    <tr>\n",
              "      <th>0</th>\n",
              "      <td>tt0118708</td>\n",
              "      <td>Beverly Hills Ninja</td>\n",
              "      <td>(1997)</td>\n",
              "      <td>5.5</td>\n",
              "      <td>PG-13</td>\n",
              "      <td>88 min</td>\n",
              "      <td>Action, Comedy</td>\n",
              "      <td>41511</td>\n",
              "      <td>31,235,710</td>\n",
              "      <td>nm0240797</td>\n",
              "      <td>Dennis Dugan</td>\n",
              "      <td>nm0000394,nm0001733,nm0795225,nm0662511</td>\n",
              "      <td>Chris Farley,Nicollette Sheridan,Robin Shou,Na...</td>\n",
              "      <td>A man tries to rescue a woman with a little he...</td>\n",
              "      <td>Comedy</td>\n",
              "    </tr>\n",
              "    <tr>\n",
              "      <th>1</th>\n",
              "      <td>tt1789846</td>\n",
              "      <td>Monster High: New Ghoul at School</td>\n",
              "      <td>(2010 TV Movie)</td>\n",
              "      <td>6.7</td>\n",
              "      <td>TV-Y7</td>\n",
              "      <td>23 min</td>\n",
              "      <td>Animation, Fantasy</td>\n",
              "      <td>567</td>\n",
              "      <td>11,000</td>\n",
              "      <td>nm0655637,nm0705779</td>\n",
              "      <td>Audu Paden,Eric Radomski</td>\n",
              "      <td>nm1512156,nm1086483,nm0220635,nm1154161</td>\n",
              "      <td>Kate Higgins,Salli Saffioti,Debi Derryberry,La...</td>\n",
              "      <td>Frankie Stein begins at Monster High and follo...</td>\n",
              "      <td>Animation</td>\n",
              "    </tr>\n",
              "    <tr>\n",
              "      <th>1</th>\n",
              "      <td>tt1789846</td>\n",
              "      <td>Monster High: New Ghoul at School</td>\n",
              "      <td>(2010 TV Movie)</td>\n",
              "      <td>6.7</td>\n",
              "      <td>TV-Y7</td>\n",
              "      <td>23 min</td>\n",
              "      <td>Animation, Fantasy</td>\n",
              "      <td>567</td>\n",
              "      <td>11,000</td>\n",
              "      <td>nm0655637,nm0705779</td>\n",
              "      <td>Audu Paden,Eric Radomski</td>\n",
              "      <td>nm1512156,nm1086483,nm0220635,nm1154161</td>\n",
              "      <td>Kate Higgins,Salli Saffioti,Debi Derryberry,La...</td>\n",
              "      <td>Frankie Stein begins at Monster High and follo...</td>\n",
              "      <td>Fantasy</td>\n",
              "    </tr>\n",
              "    <tr>\n",
              "      <th>2</th>\n",
              "      <td>tt12204610</td>\n",
              "      <td>The Killer in the Guest House</td>\n",
              "      <td>(2020 TV Movie)</td>\n",
              "      <td>5.3</td>\n",
              "      <td>TV-14</td>\n",
              "      <td>85 min</td>\n",
              "      <td>Thriller</td>\n",
              "      <td>234</td>\n",
              "      <td>132,863</td>\n",
              "      <td>nm1046827</td>\n",
              "      <td>Tony Dean Smith</td>\n",
              "      <td>nm0387581,nm4785386,nm2254636,nm5512848</td>\n",
              "      <td>Chelsea Hobbs,Marcus Rosner,Matthew Kevin Ande...</td>\n",
              "      <td>A struggling fashion photographer unknowingly ...</td>\n",
              "      <td>Thriller</td>\n",
              "    </tr>\n",
              "    <tr>\n",
              "      <th>...</th>\n",
              "      <td>...</td>\n",
              "      <td>...</td>\n",
              "      <td>...</td>\n",
              "      <td>...</td>\n",
              "      <td>...</td>\n",
              "      <td>...</td>\n",
              "      <td>...</td>\n",
              "      <td>...</td>\n",
              "      <td>...</td>\n",
              "      <td>...</td>\n",
              "      <td>...</td>\n",
              "      <td>...</td>\n",
              "      <td>...</td>\n",
              "      <td>...</td>\n",
              "      <td>...</td>\n",
              "    </tr>\n",
              "    <tr>\n",
              "      <th>20787</th>\n",
              "      <td>tt4177856</td>\n",
              "      <td>Elliot the Littlest Reindeer</td>\n",
              "      <td>(2018)</td>\n",
              "      <td>4.9</td>\n",
              "      <td>PG</td>\n",
              "      <td>89 min</td>\n",
              "      <td>Animation, Family</td>\n",
              "      <td>1,079</td>\n",
              "      <td>190,581</td>\n",
              "      <td>nm4488703</td>\n",
              "      <td>Jennifer Westcott</td>\n",
              "      <td>nm1072555,nm1242688,nm0001737,nm0000092</td>\n",
              "      <td>Morena Baccarin,Josh Hutcherson,Martin Short,J...</td>\n",
              "      <td>When Blitzen announces his retirement on Decem...</td>\n",
              "      <td>Animation</td>\n",
              "    </tr>\n",
              "    <tr>\n",
              "      <th>20787</th>\n",
              "      <td>tt4177856</td>\n",
              "      <td>Elliot the Littlest Reindeer</td>\n",
              "      <td>(2018)</td>\n",
              "      <td>4.9</td>\n",
              "      <td>PG</td>\n",
              "      <td>89 min</td>\n",
              "      <td>Animation, Family</td>\n",
              "      <td>1,079</td>\n",
              "      <td>190,581</td>\n",
              "      <td>nm4488703</td>\n",
              "      <td>Jennifer Westcott</td>\n",
              "      <td>nm1072555,nm1242688,nm0001737,nm0000092</td>\n",
              "      <td>Morena Baccarin,Josh Hutcherson,Martin Short,J...</td>\n",
              "      <td>When Blitzen announces his retirement on Decem...</td>\n",
              "      <td>Family</td>\n",
              "    </tr>\n",
              "    <tr>\n",
              "      <th>20788</th>\n",
              "      <td>tt0056172</td>\n",
              "      <td>Lawrence of Arabia</td>\n",
              "      <td>(1962)</td>\n",
              "      <td>8.3</td>\n",
              "      <td>Approved</td>\n",
              "      <td>218 min</td>\n",
              "      <td>Adventure, Biography, Drama</td>\n",
              "      <td>289377</td>\n",
              "      <td>44,824,144</td>\n",
              "      <td>nm0000180</td>\n",
              "      <td>David Lean</td>\n",
              "      <td>nm0000564,nm0000027,nm0000063,nm0370144</td>\n",
              "      <td>Peter O'Toole,Alec Guinness,Anthony Quinn,Jack...</td>\n",
              "      <td>The story of T.E. Lawrence, the English office...</td>\n",
              "      <td>Adventure</td>\n",
              "    </tr>\n",
              "    <tr>\n",
              "      <th>20788</th>\n",
              "      <td>tt0056172</td>\n",
              "      <td>Lawrence of Arabia</td>\n",
              "      <td>(1962)</td>\n",
              "      <td>8.3</td>\n",
              "      <td>Approved</td>\n",
              "      <td>218 min</td>\n",
              "      <td>Adventure, Biography, Drama</td>\n",
              "      <td>289377</td>\n",
              "      <td>44,824,144</td>\n",
              "      <td>nm0000180</td>\n",
              "      <td>David Lean</td>\n",
              "      <td>nm0000564,nm0000027,nm0000063,nm0370144</td>\n",
              "      <td>Peter O'Toole,Alec Guinness,Anthony Quinn,Jack...</td>\n",
              "      <td>The story of T.E. Lawrence, the English office...</td>\n",
              "      <td>Biography</td>\n",
              "    </tr>\n",
              "    <tr>\n",
              "      <th>20788</th>\n",
              "      <td>tt0056172</td>\n",
              "      <td>Lawrence of Arabia</td>\n",
              "      <td>(1962)</td>\n",
              "      <td>8.3</td>\n",
              "      <td>Approved</td>\n",
              "      <td>218 min</td>\n",
              "      <td>Adventure, Biography, Drama</td>\n",
              "      <td>289377</td>\n",
              "      <td>44,824,144</td>\n",
              "      <td>nm0000180</td>\n",
              "      <td>David Lean</td>\n",
              "      <td>nm0000564,nm0000027,nm0000063,nm0370144</td>\n",
              "      <td>Peter O'Toole,Alec Guinness,Anthony Quinn,Jack...</td>\n",
              "      <td>The story of T.E. Lawrence, the English office...</td>\n",
              "      <td>Drama</td>\n",
              "    </tr>\n",
              "  </tbody>\n",
              "</table>\n",
              "<p>53854 rows × 15 columns</p>\n",
              "</div>\n",
              "      <button class=\"colab-df-convert\" onclick=\"convertToInteractive('df-72d85ec4-40c1-4e6f-bc4a-9e37e5539d33')\"\n",
              "              title=\"Convert this dataframe to an interactive table.\"\n",
              "              style=\"display:none;\">\n",
              "        \n",
              "  <svg xmlns=\"http://www.w3.org/2000/svg\" height=\"24px\"viewBox=\"0 0 24 24\"\n",
              "       width=\"24px\">\n",
              "    <path d=\"M0 0h24v24H0V0z\" fill=\"none\"/>\n",
              "    <path d=\"M18.56 5.44l.94 2.06.94-2.06 2.06-.94-2.06-.94-.94-2.06-.94 2.06-2.06.94zm-11 1L8.5 8.5l.94-2.06 2.06-.94-2.06-.94L8.5 2.5l-.94 2.06-2.06.94zm10 10l.94 2.06.94-2.06 2.06-.94-2.06-.94-.94-2.06-.94 2.06-2.06.94z\"/><path d=\"M17.41 7.96l-1.37-1.37c-.4-.4-.92-.59-1.43-.59-.52 0-1.04.2-1.43.59L10.3 9.45l-7.72 7.72c-.78.78-.78 2.05 0 2.83L4 21.41c.39.39.9.59 1.41.59.51 0 1.02-.2 1.41-.59l7.78-7.78 2.81-2.81c.8-.78.8-2.07 0-2.86zM5.41 20L4 18.59l7.72-7.72 1.47 1.35L5.41 20z\"/>\n",
              "  </svg>\n",
              "      </button>\n",
              "      \n",
              "  <style>\n",
              "    .colab-df-container {\n",
              "      display:flex;\n",
              "      flex-wrap:wrap;\n",
              "      gap: 12px;\n",
              "    }\n",
              "\n",
              "    .colab-df-convert {\n",
              "      background-color: #E8F0FE;\n",
              "      border: none;\n",
              "      border-radius: 50%;\n",
              "      cursor: pointer;\n",
              "      display: none;\n",
              "      fill: #1967D2;\n",
              "      height: 32px;\n",
              "      padding: 0 0 0 0;\n",
              "      width: 32px;\n",
              "    }\n",
              "\n",
              "    .colab-df-convert:hover {\n",
              "      background-color: #E2EBFA;\n",
              "      box-shadow: 0px 1px 2px rgba(60, 64, 67, 0.3), 0px 1px 3px 1px rgba(60, 64, 67, 0.15);\n",
              "      fill: #174EA6;\n",
              "    }\n",
              "\n",
              "    [theme=dark] .colab-df-convert {\n",
              "      background-color: #3B4455;\n",
              "      fill: #D2E3FC;\n",
              "    }\n",
              "\n",
              "    [theme=dark] .colab-df-convert:hover {\n",
              "      background-color: #434B5C;\n",
              "      box-shadow: 0px 1px 3px 1px rgba(0, 0, 0, 0.15);\n",
              "      filter: drop-shadow(0px 1px 2px rgba(0, 0, 0, 0.3));\n",
              "      fill: #FFFFFF;\n",
              "    }\n",
              "  </style>\n",
              "\n",
              "      <script>\n",
              "        const buttonEl =\n",
              "          document.querySelector('#df-72d85ec4-40c1-4e6f-bc4a-9e37e5539d33 button.colab-df-convert');\n",
              "        buttonEl.style.display =\n",
              "          google.colab.kernel.accessAllowed ? 'block' : 'none';\n",
              "\n",
              "        async function convertToInteractive(key) {\n",
              "          const element = document.querySelector('#df-72d85ec4-40c1-4e6f-bc4a-9e37e5539d33');\n",
              "          const dataTable =\n",
              "            await google.colab.kernel.invokeFunction('convertToInteractive',\n",
              "                                                     [key], {});\n",
              "          if (!dataTable) return;\n",
              "\n",
              "          const docLinkHtml = 'Like what you see? Visit the ' +\n",
              "            '<a target=\"_blank\" href=https://colab.research.google.com/notebooks/data_table.ipynb>data table notebook</a>'\n",
              "            + ' to learn more about interactive tables.';\n",
              "          element.innerHTML = '';\n",
              "          dataTable['output_type'] = 'display_data';\n",
              "          await google.colab.output.renderOutput(dataTable, element);\n",
              "          const docLink = document.createElement('div');\n",
              "          docLink.innerHTML = docLinkHtml;\n",
              "          element.appendChild(docLink);\n",
              "        }\n",
              "      </script>\n",
              "    </div>\n",
              "  </div>\n",
              "  "
            ]
          },
          "metadata": {},
          "execution_count": 11
        }
      ],
      "source": [
        "df = data.assign(genres = data.genre.str.split(\", \" )).explode('genres')\n",
        "df"
      ],
      "id": "dc33fcd6"
    },
    {
      "cell_type": "code",
      "execution_count": 12,
      "metadata": {
        "colab": {
          "base_uri": "https://localhost:8080/"
        },
        "id": "Lf6PE-ZjPO18",
        "outputId": "99ac1b8c-26bf-4de6-8568-6a5c8e5c7adf"
      },
      "outputs": [
        {
          "output_type": "execute_result",
          "data": {
            "text/plain": [
              "array(['Action', 'Comedy', 'Animation', 'Fantasy', 'Thriller',\n",
              "       'Adventure', 'Drama', 'Horror', 'Biography', 'Crime', 'War',\n",
              "       'Sport', 'Musical', 'Music', 'Film-Noir', 'Sci-Fi', 'Mystery',\n",
              "       'Romance', 'Western', 'Family', 'Documentary', 'History', 'Short',\n",
              "       'Game-Show', 'News', 'Reality-TV'], dtype=object)"
            ]
          },
          "metadata": {},
          "execution_count": 12
        }
      ],
      "source": [
        "df['genres'].unique()"
      ],
      "id": "Lf6PE-ZjPO18"
    },
    {
      "cell_type": "markdown",
      "source": [
        "**Total genres = 26**"
      ],
      "metadata": {
        "id": "JFflAgRwlpQ_"
      },
      "id": "JFflAgRwlpQ_"
    },
    {
      "cell_type": "code",
      "execution_count": 13,
      "metadata": {
        "colab": {
          "base_uri": "https://localhost:8080/"
        },
        "id": "2N2rwluGNsb1",
        "outputId": "e2d9d97a-5e6b-434e-ef13-7cdb1f5c81c1"
      },
      "outputs": [
        {
          "output_type": "execute_result",
          "data": {
            "text/plain": [
              "26"
            ]
          },
          "metadata": {},
          "execution_count": 13
        }
      ],
      "source": [
        "len(df['genres'].unique())"
      ],
      "id": "2N2rwluGNsb1"
    },
    {
      "cell_type": "markdown",
      "metadata": {
        "id": "8b18fe55"
      },
      "source": [
        "### 2. Find the most voted Movie in the dataset"
      ],
      "id": "8b18fe55"
    },
    {
      "cell_type": "markdown",
      "source": [
        "**Dataset - the main dataset which was loaded**"
      ],
      "metadata": {
        "id": "w3GhOdgNjOp-"
      },
      "id": "w3GhOdgNjOp-"
    },
    {
      "cell_type": "code",
      "execution_count": 14,
      "metadata": {
        "colab": {
          "base_uri": "https://localhost:8080/",
          "height": 177
        },
        "id": "82e48c2a",
        "outputId": "65281f04-051d-42ea-84ec-32d51d6a9bb8"
      },
      "outputs": [
        {
          "output_type": "execute_result",
          "data": {
            "text/plain": [
              "             id            name    year  rating certificate duration  \\\n",
              "6443  tt0404390  Running Scared  (2006)     7.3           R  122 min   \n",
              "\n",
              "                     genre  votes gross_income directors_id directors_name  \\\n",
              "6443  Action, Crime, Drama  99981    6,855,137    nm0469694   Wayne Kramer   \n",
              "\n",
              "                                     stars_id  \\\n",
              "6443  nm0908094,nm1080974,nm0001590,nm0267812   \n",
              "\n",
              "                                             stars_name  \\\n",
              "6443  Paul Walker,Cameron Bright,Chazz Palminteri,Ve...   \n",
              "\n",
              "                                            description  \n",
              "6443  A low-ranking thug is entrusted by his crime b...  "
            ],
            "text/html": [
              "\n",
              "  <div id=\"df-77b56fc7-a726-43d6-9c43-9303e4976d85\">\n",
              "    <div class=\"colab-df-container\">\n",
              "      <div>\n",
              "<style scoped>\n",
              "    .dataframe tbody tr th:only-of-type {\n",
              "        vertical-align: middle;\n",
              "    }\n",
              "\n",
              "    .dataframe tbody tr th {\n",
              "        vertical-align: top;\n",
              "    }\n",
              "\n",
              "    .dataframe thead th {\n",
              "        text-align: right;\n",
              "    }\n",
              "</style>\n",
              "<table border=\"1\" class=\"dataframe\">\n",
              "  <thead>\n",
              "    <tr style=\"text-align: right;\">\n",
              "      <th></th>\n",
              "      <th>id</th>\n",
              "      <th>name</th>\n",
              "      <th>year</th>\n",
              "      <th>rating</th>\n",
              "      <th>certificate</th>\n",
              "      <th>duration</th>\n",
              "      <th>genre</th>\n",
              "      <th>votes</th>\n",
              "      <th>gross_income</th>\n",
              "      <th>directors_id</th>\n",
              "      <th>directors_name</th>\n",
              "      <th>stars_id</th>\n",
              "      <th>stars_name</th>\n",
              "      <th>description</th>\n",
              "    </tr>\n",
              "  </thead>\n",
              "  <tbody>\n",
              "    <tr>\n",
              "      <th>6443</th>\n",
              "      <td>tt0404390</td>\n",
              "      <td>Running Scared</td>\n",
              "      <td>(2006)</td>\n",
              "      <td>7.3</td>\n",
              "      <td>R</td>\n",
              "      <td>122 min</td>\n",
              "      <td>Action, Crime, Drama</td>\n",
              "      <td>99981</td>\n",
              "      <td>6,855,137</td>\n",
              "      <td>nm0469694</td>\n",
              "      <td>Wayne Kramer</td>\n",
              "      <td>nm0908094,nm1080974,nm0001590,nm0267812</td>\n",
              "      <td>Paul Walker,Cameron Bright,Chazz Palminteri,Ve...</td>\n",
              "      <td>A low-ranking thug is entrusted by his crime b...</td>\n",
              "    </tr>\n",
              "  </tbody>\n",
              "</table>\n",
              "</div>\n",
              "      <button class=\"colab-df-convert\" onclick=\"convertToInteractive('df-77b56fc7-a726-43d6-9c43-9303e4976d85')\"\n",
              "              title=\"Convert this dataframe to an interactive table.\"\n",
              "              style=\"display:none;\">\n",
              "        \n",
              "  <svg xmlns=\"http://www.w3.org/2000/svg\" height=\"24px\"viewBox=\"0 0 24 24\"\n",
              "       width=\"24px\">\n",
              "    <path d=\"M0 0h24v24H0V0z\" fill=\"none\"/>\n",
              "    <path d=\"M18.56 5.44l.94 2.06.94-2.06 2.06-.94-2.06-.94-.94-2.06-.94 2.06-2.06.94zm-11 1L8.5 8.5l.94-2.06 2.06-.94-2.06-.94L8.5 2.5l-.94 2.06-2.06.94zm10 10l.94 2.06.94-2.06 2.06-.94-2.06-.94-.94-2.06-.94 2.06-2.06.94z\"/><path d=\"M17.41 7.96l-1.37-1.37c-.4-.4-.92-.59-1.43-.59-.52 0-1.04.2-1.43.59L10.3 9.45l-7.72 7.72c-.78.78-.78 2.05 0 2.83L4 21.41c.39.39.9.59 1.41.59.51 0 1.02-.2 1.41-.59l7.78-7.78 2.81-2.81c.8-.78.8-2.07 0-2.86zM5.41 20L4 18.59l7.72-7.72 1.47 1.35L5.41 20z\"/>\n",
              "  </svg>\n",
              "      </button>\n",
              "      \n",
              "  <style>\n",
              "    .colab-df-container {\n",
              "      display:flex;\n",
              "      flex-wrap:wrap;\n",
              "      gap: 12px;\n",
              "    }\n",
              "\n",
              "    .colab-df-convert {\n",
              "      background-color: #E8F0FE;\n",
              "      border: none;\n",
              "      border-radius: 50%;\n",
              "      cursor: pointer;\n",
              "      display: none;\n",
              "      fill: #1967D2;\n",
              "      height: 32px;\n",
              "      padding: 0 0 0 0;\n",
              "      width: 32px;\n",
              "    }\n",
              "\n",
              "    .colab-df-convert:hover {\n",
              "      background-color: #E2EBFA;\n",
              "      box-shadow: 0px 1px 2px rgba(60, 64, 67, 0.3), 0px 1px 3px 1px rgba(60, 64, 67, 0.15);\n",
              "      fill: #174EA6;\n",
              "    }\n",
              "\n",
              "    [theme=dark] .colab-df-convert {\n",
              "      background-color: #3B4455;\n",
              "      fill: #D2E3FC;\n",
              "    }\n",
              "\n",
              "    [theme=dark] .colab-df-convert:hover {\n",
              "      background-color: #434B5C;\n",
              "      box-shadow: 0px 1px 3px 1px rgba(0, 0, 0, 0.15);\n",
              "      filter: drop-shadow(0px 1px 2px rgba(0, 0, 0, 0.3));\n",
              "      fill: #FFFFFF;\n",
              "    }\n",
              "  </style>\n",
              "\n",
              "      <script>\n",
              "        const buttonEl =\n",
              "          document.querySelector('#df-77b56fc7-a726-43d6-9c43-9303e4976d85 button.colab-df-convert');\n",
              "        buttonEl.style.display =\n",
              "          google.colab.kernel.accessAllowed ? 'block' : 'none';\n",
              "\n",
              "        async function convertToInteractive(key) {\n",
              "          const element = document.querySelector('#df-77b56fc7-a726-43d6-9c43-9303e4976d85');\n",
              "          const dataTable =\n",
              "            await google.colab.kernel.invokeFunction('convertToInteractive',\n",
              "                                                     [key], {});\n",
              "          if (!dataTable) return;\n",
              "\n",
              "          const docLinkHtml = 'Like what you see? Visit the ' +\n",
              "            '<a target=\"_blank\" href=https://colab.research.google.com/notebooks/data_table.ipynb>data table notebook</a>'\n",
              "            + ' to learn more about interactive tables.';\n",
              "          element.innerHTML = '';\n",
              "          dataTable['output_type'] = 'display_data';\n",
              "          await google.colab.output.renderOutput(dataTable, element);\n",
              "          const docLink = document.createElement('div');\n",
              "          docLink.innerHTML = docLinkHtml;\n",
              "          element.appendChild(docLink);\n",
              "        }\n",
              "      </script>\n",
              "    </div>\n",
              "  </div>\n",
              "  "
            ]
          },
          "metadata": {},
          "execution_count": 14
        }
      ],
      "source": [
        "data.sort_values(by = \"votes\", ascending = False).head(1)"
      ],
      "id": "82e48c2a"
    },
    {
      "cell_type": "markdown",
      "metadata": {
        "id": "b2b61009"
      },
      "source": [
        "### 3. Which Genre is having most number of Movies in the dataset?"
      ],
      "id": "b2b61009"
    },
    {
      "cell_type": "markdown",
      "source": [
        "**df dataset is where genres are splitted for each genre**"
      ],
      "metadata": {
        "id": "nCptoMyrjZhL"
      },
      "id": "nCptoMyrjZhL"
    },
    {
      "cell_type": "code",
      "execution_count": 15,
      "metadata": {
        "colab": {
          "base_uri": "https://localhost:8080/"
        },
        "id": "e7e02c9f",
        "outputId": "a46e6a25-e4fe-44dc-858b-830edba63413"
      },
      "outputs": [
        {
          "output_type": "execute_result",
          "data": {
            "text/plain": [
              "genres\n",
              "Drama    9928\n",
              "dtype: int64"
            ]
          },
          "metadata": {},
          "execution_count": 15
        }
      ],
      "source": [
        "df.groupby('genres').size().sort_values(ascending=False).head(1)"
      ],
      "id": "e7e02c9f"
    },
    {
      "cell_type": "markdown",
      "metadata": {
        "id": "cfe197c7"
      },
      "source": [
        "### 4. Find the Disctribution of number of movies in each genre with bar graph"
      ],
      "id": "cfe197c7"
    },
    {
      "cell_type": "markdown",
      "source": [
        "**df dataset is where genres are splitted for each genre**"
      ],
      "metadata": {
        "id": "ErYYnDeMjnLD"
      },
      "id": "ErYYnDeMjnLD"
    },
    {
      "cell_type": "code",
      "execution_count": 16,
      "metadata": {
        "colab": {
          "base_uri": "https://localhost:8080/",
          "height": 464
        },
        "id": "38425fae",
        "outputId": "fc1b497c-e383-4935-e694-646910ca663d"
      },
      "outputs": [
        {
          "output_type": "execute_result",
          "data": {
            "text/plain": [
              "Text(0.5, 0, 'Genres')"
            ]
          },
          "metadata": {},
          "execution_count": 16
        },
        {
          "output_type": "display_data",
          "data": {
            "text/plain": [
              "<Figure size 1296x432 with 1 Axes>"
            ],
            "image/png": "[encoded data removed]"
          },
          "metadata": {
            "needs_background": "light"
          }
        }
      ],
      "source": [
        "plt.figure(figsize = (15,5))\n",
        "df.genres.value_counts().plot(kind = 'bar',x = 'Genres', figsize=(18,6))\n",
        "plt.xlabel(\"Genres\")"
      ],
      "id": "38425fae"
    },
    {
      "cell_type": "markdown",
      "metadata": {
        "id": "a35501ed"
      },
      "source": [
        "### 5. Plot top 10 Movies with maximum Gross-Income with Bar Graph"
      ],
      "id": "a35501ed"
    },
    {
      "cell_type": "markdown",
      "source": [
        "**Created a seperate dataset from main dataset loaded as d**"
      ],
      "metadata": {
        "id": "lBD861ccjyZr"
      },
      "id": "lBD861ccjyZr"
    },
    {
      "cell_type": "code",
      "execution_count": 17,
      "metadata": {
        "id": "3xhwVj6lYhs0"
      },
      "outputs": [],
      "source": [
        "d = pd.DataFrame()\n",
        "d = data[['name', 'genre','gross_income']]"
      ],
      "id": "3xhwVj6lYhs0"
    },
    {
      "cell_type": "code",
      "source": [
        "d.shape"
      ],
      "metadata": {
        "colab": {
          "base_uri": "https://localhost:8080/"
        },
        "id": "AQ_vdJV0j8h_",
        "outputId": "e8bebd4c-dc69-4ba9-b51c-f792e48b0714"
      },
      "id": "AQ_vdJV0j8h_",
      "execution_count": 18,
      "outputs": [
        {
          "output_type": "execute_result",
          "data": {
            "text/plain": [
              "(20789, 3)"
            ]
          },
          "metadata": {},
          "execution_count": 18
        }
      ]
    },
    {
      "cell_type": "markdown",
      "source": [
        "**convert gross_income from string to float and clean it**"
      ],
      "metadata": {
        "id": "S8545K0mljtr"
      },
      "id": "S8545K0mljtr"
    },
    {
      "cell_type": "code",
      "source": [
        "d['gross_income'] = d['gross_income'].str.replace(',','').str.replace('$', '').str.replace('M', '').astype(float)\n",
        "d = d.groupby(['name']).mean()"
      ],
      "metadata": {
        "colab": {
          "base_uri": "https://localhost:8080/"
        },
        "id": "dAZbgTc0YQYZ",
        "outputId": "3e920763-dfdf-4e5f-8b7f-b1d1497a6cc9"
      },
      "id": "dAZbgTc0YQYZ",
      "execution_count": 19,
      "outputs": [
        {
          "output_type": "stream",
          "name": "stderr",
          "text": [
            "/usr/local/lib/python3.7/dist-packages/ipykernel_launcher.py:1: FutureWarning: The default value of regex will change from True to False in a future version. In addition, single character regular expressions will *not* be treated as literal strings when regex=True.\n",
            "  \"\"\"Entry point for launching an IPython kernel.\n",
            "/usr/local/lib/python3.7/dist-packages/ipykernel_launcher.py:1: SettingWithCopyWarning: \n",
            "A value is trying to be set on a copy of a slice from a DataFrame.\n",
            "Try using .loc[row_indexer,col_indexer] = value instead\n",
            "\n",
            "See the caveats in the documentation: https://pandas.pydata.org/pandas-docs/stable/user_guide/indexing.html#returning-a-view-versus-a-copy\n",
            "  \"\"\"Entry point for launching an IPython kernel.\n"
          ]
        }
      ]
    },
    {
      "cell_type": "markdown",
      "source": [
        "**Bar graph - Movies vs Gross Income**"
      ],
      "metadata": {
        "id": "jwd334Dtos3v"
      },
      "id": "jwd334Dtos3v"
    },
    {
      "cell_type": "code",
      "source": [
        "d.sort_values('gross_income', ascending = False).head(10).plot(kind = 'barh',figsize=(15,6))"
      ],
      "metadata": {
        "colab": {
          "base_uri": "https://localhost:8080/",
          "height": 405
        },
        "id": "zCJqfdm1bCC4",
        "outputId": "b996a06f-28ef-4e91-f68e-4482158b104a"
      },
      "id": "zCJqfdm1bCC4",
      "execution_count": 20,
      "outputs": [
        {
          "output_type": "execute_result",
          "data": {
            "text/plain": [
              "<matplotlib.axes._subplots.AxesSubplot at 0x7f2e8fef1a50>"
            ]
          },
          "metadata": {},
          "execution_count": 20
        },
        {
          "output_type": "display_data",
          "data": {
            "text/plain": [
              "<Figure size 1080x432 with 1 Axes>"
            ],
            "image/png": "[encoded data removed]"
          },
          "metadata": {
            "needs_background": "light"
          }
        }
      ]
    },
    {
      "cell_type": "markdown",
      "metadata": {
        "id": "a2f06946"
      },
      "source": [
        "### 6. Whats the average duration of a movie in each genre in ascending order?"
      ],
      "id": "a2f06946"
    },
    {
      "cell_type": "markdown",
      "source": [
        "**Created a seperate dataset as df1 where genre was splitted**"
      ],
      "metadata": {
        "id": "Y5SlvrXrlCuk"
      },
      "id": "Y5SlvrXrlCuk"
    },
    {
      "cell_type": "code",
      "execution_count": 21,
      "metadata": {
        "id": "HaEFfxAqiR9h"
      },
      "outputs": [],
      "source": [
        "df1 = df[['name', 'duration','genres']]"
      ],
      "id": "HaEFfxAqiR9h"
    },
    {
      "cell_type": "code",
      "execution_count": 22,
      "metadata": {
        "colab": {
          "base_uri": "https://localhost:8080/",
          "height": 206
        },
        "id": "r50LDLDei1JD",
        "outputId": "d9b9ab94-e4d5-4942-ac55-d81e17dad737"
      },
      "outputs": [
        {
          "output_type": "execute_result",
          "data": {
            "text/plain": [
              "                                name duration     genres\n",
              "0                Beverly Hills Ninja   88 min     Action\n",
              "0                Beverly Hills Ninja   88 min     Comedy\n",
              "1  Monster High: New Ghoul at School   23 min  Animation\n",
              "1  Monster High: New Ghoul at School   23 min    Fantasy\n",
              "2      The Killer in the Guest House   85 min   Thriller"
            ],
            "text/html": [
              "\n",
              "  <div id=\"df-455569ae-0d46-4272-8122-063f4863ce2e\">\n",
              "    <div class=\"colab-df-container\">\n",
              "      <div>\n",
              "<style scoped>\n",
              "    .dataframe tbody tr th:only-of-type {\n",
              "        vertical-align: middle;\n",
              "    }\n",
              "\n",
              "    .dataframe tbody tr th {\n",
              "        vertical-align: top;\n",
              "    }\n",
              "\n",
              "    .dataframe thead th {\n",
              "        text-align: right;\n",
              "    }\n",
              "</style>\n",
              "<table border=\"1\" class=\"dataframe\">\n",
              "  <thead>\n",
              "    <tr style=\"text-align: right;\">\n",
              "      <th></th>\n",
              "      <th>name</th>\n",
              "      <th>duration</th>\n",
              "      <th>genres</th>\n",
              "    </tr>\n",
              "  </thead>\n",
              "  <tbody>\n",
              "    <tr>\n",
              "      <th>0</th>\n",
              "      <td>Beverly Hills Ninja</td>\n",
              "      <td>88 min</td>\n",
              "      <td>Action</td>\n",
              "    </tr>\n",
              "    <tr>\n",
              "      <th>0</th>\n",
              "      <td>Beverly Hills Ninja</td>\n",
              "      <td>88 min</td>\n",
              "      <td>Comedy</td>\n",
              "    </tr>\n",
              "    <tr>\n",
              "      <th>1</th>\n",
              "      <td>Monster High: New Ghoul at School</td>\n",
              "      <td>23 min</td>\n",
              "      <td>Animation</td>\n",
              "    </tr>\n",
              "    <tr>\n",
              "      <th>1</th>\n",
              "      <td>Monster High: New Ghoul at School</td>\n",
              "      <td>23 min</td>\n",
              "      <td>Fantasy</td>\n",
              "    </tr>\n",
              "    <tr>\n",
              "      <th>2</th>\n",
              "      <td>The Killer in the Guest House</td>\n",
              "      <td>85 min</td>\n",
              "      <td>Thriller</td>\n",
              "    </tr>\n",
              "  </tbody>\n",
              "</table>\n",
              "</div>\n",
              "      <button class=\"colab-df-convert\" onclick=\"convertToInteractive('df-455569ae-0d46-4272-8122-063f4863ce2e')\"\n",
              "              title=\"Convert this dataframe to an interactive table.\"\n",
              "              style=\"display:none;\">\n",
              "        \n",
              "  <svg xmlns=\"http://www.w3.org/2000/svg\" height=\"24px\"viewBox=\"0 0 24 24\"\n",
              "       width=\"24px\">\n",
              "    <path d=\"M0 0h24v24H0V0z\" fill=\"none\"/>\n",
              "    <path d=\"M18.56 5.44l.94 2.06.94-2.06 2.06-.94-2.06-.94-.94-2.06-.94 2.06-2.06.94zm-11 1L8.5 8.5l.94-2.06 2.06-.94-2.06-.94L8.5 2.5l-.94 2.06-2.06.94zm10 10l.94 2.06.94-2.06 2.06-.94-2.06-.94-.94-2.06-.94 2.06-2.06.94z\"/><path d=\"M17.41 7.96l-1.37-1.37c-.4-.4-.92-.59-1.43-.59-.52 0-1.04.2-1.43.59L10.3 9.45l-7.72 7.72c-.78.78-.78 2.05 0 2.83L4 21.41c.39.39.9.59 1.41.59.51 0 1.02-.2 1.41-.59l7.78-7.78 2.81-2.81c.8-.78.8-2.07 0-2.86zM5.41 20L4 18.59l7.72-7.72 1.47 1.35L5.41 20z\"/>\n",
              "  </svg>\n",
              "      </button>\n",
              "      \n",
              "  <style>\n",
              "    .colab-df-container {\n",
              "      display:flex;\n",
              "      flex-wrap:wrap;\n",
              "      gap: 12px;\n",
              "    }\n",
              "\n",
              "    .colab-df-convert {\n",
              "      background-color: #E8F0FE;\n",
              "      border: none;\n",
              "      border-radius: 50%;\n",
              "      cursor: pointer;\n",
              "      display: none;\n",
              "      fill: #1967D2;\n",
              "      height: 32px;\n",
              "      padding: 0 0 0 0;\n",
              "      width: 32px;\n",
              "    }\n",
              "\n",
              "    .colab-df-convert:hover {\n",
              "      background-color: #E2EBFA;\n",
              "      box-shadow: 0px 1px 2px rgba(60, 64, 67, 0.3), 0px 1px 3px 1px rgba(60, 64, 67, 0.15);\n",
              "      fill: #174EA6;\n",
              "    }\n",
              "\n",
              "    [theme=dark] .colab-df-convert {\n",
              "      background-color: #3B4455;\n",
              "      fill: #D2E3FC;\n",
              "    }\n",
              "\n",
              "    [theme=dark] .colab-df-convert:hover {\n",
              "      background-color: #434B5C;\n",
              "      box-shadow: 0px 1px 3px 1px rgba(0, 0, 0, 0.15);\n",
              "      filter: drop-shadow(0px 1px 2px rgba(0, 0, 0, 0.3));\n",
              "      fill: #FFFFFF;\n",
              "    }\n",
              "  </style>\n",
              "\n",
              "      <script>\n",
              "        const buttonEl =\n",
              "          document.querySelector('#df-455569ae-0d46-4272-8122-063f4863ce2e button.colab-df-convert');\n",
              "        buttonEl.style.display =\n",
              "          google.colab.kernel.accessAllowed ? 'block' : 'none';\n",
              "\n",
              "        async function convertToInteractive(key) {\n",
              "          const element = document.querySelector('#df-455569ae-0d46-4272-8122-063f4863ce2e');\n",
              "          const dataTable =\n",
              "            await google.colab.kernel.invokeFunction('convertToInteractive',\n",
              "                                                     [key], {});\n",
              "          if (!dataTable) return;\n",
              "\n",
              "          const docLinkHtml = 'Like what you see? Visit the ' +\n",
              "            '<a target=\"_blank\" href=https://colab.research.google.com/notebooks/data_table.ipynb>data table notebook</a>'\n",
              "            + ' to learn more about interactive tables.';\n",
              "          element.innerHTML = '';\n",
              "          dataTable['output_type'] = 'display_data';\n",
              "          await google.colab.output.renderOutput(dataTable, element);\n",
              "          const docLink = document.createElement('div');\n",
              "          docLink.innerHTML = docLinkHtml;\n",
              "          element.appendChild(docLink);\n",
              "        }\n",
              "      </script>\n",
              "    </div>\n",
              "  </div>\n",
              "  "
            ]
          },
          "metadata": {},
          "execution_count": 22
        }
      ],
      "source": [
        "df1.head()"
      ],
      "id": "r50LDLDei1JD"
    },
    {
      "cell_type": "markdown",
      "source": [
        "**Convert duration from string to float and sanatize it**"
      ],
      "metadata": {
        "id": "YPQY84D1l9aA"
      },
      "id": "YPQY84D1l9aA"
    },
    {
      "cell_type": "code",
      "execution_count": 23,
      "metadata": {
        "colab": {
          "base_uri": "https://localhost:8080/"
        },
        "id": "bqhGIVqXvPby",
        "outputId": "d09e185d-dc7c-4880-ed80-41483ccfeda2"
      },
      "outputs": [
        {
          "output_type": "stream",
          "name": "stderr",
          "text": [
            "/usr/local/lib/python3.7/dist-packages/ipykernel_launcher.py:1: SettingWithCopyWarning: \n",
            "A value is trying to be set on a copy of a slice from a DataFrame.\n",
            "Try using .loc[row_indexer,col_indexer] = value instead\n",
            "\n",
            "See the caveats in the documentation: https://pandas.pydata.org/pandas-docs/stable/user_guide/indexing.html#returning-a-view-versus-a-copy\n",
            "  \"\"\"Entry point for launching an IPython kernel.\n",
            "/usr/local/lib/python3.7/dist-packages/ipykernel_launcher.py:2: SettingWithCopyWarning: \n",
            "A value is trying to be set on a copy of a slice from a DataFrame.\n",
            "Try using .loc[row_indexer,col_indexer] = value instead\n",
            "\n",
            "See the caveats in the documentation: https://pandas.pydata.org/pandas-docs/stable/user_guide/indexing.html#returning-a-view-versus-a-copy\n",
            "  \n"
          ]
        }
      ],
      "source": [
        "df1['duration'] = df1['duration'].str.replace(' min','').str.replace(',','')\n",
        "df1['duration'] = df1['duration'].astype(float)"
      ],
      "id": "bqhGIVqXvPby"
    },
    {
      "cell_type": "markdown",
      "source": [
        "**Finding mean genre wise**"
      ],
      "metadata": {
        "id": "tKfvfip6oXJS"
      },
      "id": "tKfvfip6oXJS"
    },
    {
      "cell_type": "code",
      "source": [
        "df1 = df1.groupby(['genres']).mean()\n",
        "df1"
      ],
      "metadata": {
        "colab": {
          "base_uri": "https://localhost:8080/",
          "height": 896
        },
        "id": "biO_a-9um6UQ",
        "outputId": "449768d1-167a-44a4-dad4-e5e8a1b125c9"
      },
      "id": "biO_a-9um6UQ",
      "execution_count": 24,
      "outputs": [
        {
          "output_type": "execute_result",
          "data": {
            "text/plain": [
              "               duration\n",
              "genres                 \n",
              "Action       105.594590\n",
              "Adventure    100.718882\n",
              "Animation     78.081154\n",
              "Biography    109.628390\n",
              "Comedy        96.276678\n",
              "Crime        102.869214\n",
              "Documentary  100.858595\n",
              "Drama        106.126511\n",
              "Family        93.464522\n",
              "Fantasy       99.555921\n",
              "Film-Noir     88.260586\n",
              "Game-Show     85.000000\n",
              "History      116.873188\n",
              "Horror        93.198355\n",
              "Music        102.326308\n",
              "Musical      110.493590\n",
              "Mystery      100.821799\n",
              "News          78.083333\n",
              "Reality-TV    98.666667\n",
              "Romance      105.266848\n",
              "Sci-Fi        98.919723\n",
              "Short         16.871595\n",
              "Sport        103.804613\n",
              "Thriller     100.723889\n",
              "War          107.430716\n",
              "Western       96.052500"
            ],
            "text/html": [
              "\n",
              "  <div id=\"df-d902ca68-7e96-451c-8b1f-616f4e3d4210\">\n",
              "    <div class=\"colab-df-container\">\n",
              "      <div>\n",
              "<style scoped>\n",
              "    .dataframe tbody tr th:only-of-type {\n",
              "        vertical-align: middle;\n",
              "    }\n",
              "\n",
              "    .dataframe tbody tr th {\n",
              "        vertical-align: top;\n",
              "    }\n",
              "\n",
              "    .dataframe thead th {\n",
              "        text-align: right;\n",
              "    }\n",
              "</style>\n",
              "<table border=\"1\" class=\"dataframe\">\n",
              "  <thead>\n",
              "    <tr style=\"text-align: right;\">\n",
              "      <th></th>\n",
              "      <th>duration</th>\n",
              "    </tr>\n",
              "    <tr>\n",
              "      <th>genres</th>\n",
              "      <th></th>\n",
              "    </tr>\n",
              "  </thead>\n",
              "  <tbody>\n",
              "    <tr>\n",
              "      <th>Action</th>\n",
              "      <td>105.594590</td>\n",
              "    </tr>\n",
              "    <tr>\n",
              "      <th>Adventure</th>\n",
              "      <td>100.718882</td>\n",
              "    </tr>\n",
              "    <tr>\n",
              "      <th>Animation</th>\n",
              "      <td>78.081154</td>\n",
              "    </tr>\n",
              "    <tr>\n",
              "      <th>Biography</th>\n",
              "      <td>109.628390</td>\n",
              "    </tr>\n",
              "    <tr>\n",
              "      <th>Comedy</th>\n",
              "      <td>96.276678</td>\n",
              "    </tr>\n",
              "    <tr>\n",
              "      <th>Crime</th>\n",
              "      <td>102.869214</td>\n",
              "    </tr>\n",
              "    <tr>\n",
              "      <th>Documentary</th>\n",
              "      <td>100.858595</td>\n",
              "    </tr>\n",
              "    <tr>\n",
              "      <th>Drama</th>\n",
              "      <td>106.126511</td>\n",
              "    </tr>\n",
              "    <tr>\n",
              "      <th>Family</th>\n",
              "      <td>93.464522</td>\n",
              "    </tr>\n",
              "    <tr>\n",
              "      <th>Fantasy</th>\n",
              "      <td>99.555921</td>\n",
              "    </tr>\n",
              "    <tr>\n",
              "      <th>Film-Noir</th>\n",
              "      <td>88.260586</td>\n",
              "    </tr>\n",
              "    <tr>\n",
              "      <th>Game-Show</th>\n",
              "      <td>85.000000</td>\n",
              "    </tr>\n",
              "    <tr>\n",
              "      <th>History</th>\n",
              "      <td>116.873188</td>\n",
              "    </tr>\n",
              "    <tr>\n",
              "      <th>Horror</th>\n",
              "      <td>93.198355</td>\n",
              "    </tr>\n",
              "    <tr>\n",
              "      <th>Music</th>\n",
              "      <td>102.326308</td>\n",
              "    </tr>\n",
              "    <tr>\n",
              "      <th>Musical</th>\n",
              "      <td>110.493590</td>\n",
              "    </tr>\n",
              "    <tr>\n",
              "      <th>Mystery</th>\n",
              "      <td>100.821799</td>\n",
              "    </tr>\n",
              "    <tr>\n",
              "      <th>News</th>\n",
              "      <td>78.083333</td>\n",
              "    </tr>\n",
              "    <tr>\n",
              "      <th>Reality-TV</th>\n",
              "      <td>98.666667</td>\n",
              "    </tr>\n",
              "    <tr>\n",
              "      <th>Romance</th>\n",
              "      <td>105.266848</td>\n",
              "    </tr>\n",
              "    <tr>\n",
              "      <th>Sci-Fi</th>\n",
              "      <td>98.919723</td>\n",
              "    </tr>\n",
              "    <tr>\n",
              "      <th>Short</th>\n",
              "      <td>16.871595</td>\n",
              "    </tr>\n",
              "    <tr>\n",
              "      <th>Sport</th>\n",
              "      <td>103.804613</td>\n",
              "    </tr>\n",
              "    <tr>\n",
              "      <th>Thriller</th>\n",
              "      <td>100.723889</td>\n",
              "    </tr>\n",
              "    <tr>\n",
              "      <th>War</th>\n",
              "      <td>107.430716</td>\n",
              "    </tr>\n",
              "    <tr>\n",
              "      <th>Western</th>\n",
              "      <td>96.052500</td>\n",
              "    </tr>\n",
              "  </tbody>\n",
              "</table>\n",
              "</div>\n",
              "      <button class=\"colab-df-convert\" onclick=\"convertToInteractive('df-d902ca68-7e96-451c-8b1f-616f4e3d4210')\"\n",
              "              title=\"Convert this dataframe to an interactive table.\"\n",
              "              style=\"display:none;\">\n",
              "        \n",
              "  <svg xmlns=\"http://www.w3.org/2000/svg\" height=\"24px\"viewBox=\"0 0 24 24\"\n",
              "       width=\"24px\">\n",
              "    <path d=\"M0 0h24v24H0V0z\" fill=\"none\"/>\n",
              "    <path d=\"M18.56 5.44l.94 2.06.94-2.06 2.06-.94-2.06-.94-.94-2.06-.94 2.06-2.06.94zm-11 1L8.5 8.5l.94-2.06 2.06-.94-2.06-.94L8.5 2.5l-.94 2.06-2.06.94zm10 10l.94 2.06.94-2.06 2.06-.94-2.06-.94-.94-2.06-.94 2.06-2.06.94z\"/><path d=\"M17.41 7.96l-1.37-1.37c-.4-.4-.92-.59-1.43-.59-.52 0-1.04.2-1.43.59L10.3 9.45l-7.72 7.72c-.78.78-.78 2.05 0 2.83L4 21.41c.39.39.9.59 1.41.59.51 0 1.02-.2 1.41-.59l7.78-7.78 2.81-2.81c.8-.78.8-2.07 0-2.86zM5.41 20L4 18.59l7.72-7.72 1.47 1.35L5.41 20z\"/>\n",
              "  </svg>\n",
              "      </button>\n",
              "      \n",
              "  <style>\n",
              "    .colab-df-container {\n",
              "      display:flex;\n",
              "      flex-wrap:wrap;\n",
              "      gap: 12px;\n",
              "    }\n",
              "\n",
              "    .colab-df-convert {\n",
              "      background-color: #E8F0FE;\n",
              "      border: none;\n",
              "      border-radius: 50%;\n",
              "      cursor: pointer;\n",
              "      display: none;\n",
              "      fill: #1967D2;\n",
              "      height: 32px;\n",
              "      padding: 0 0 0 0;\n",
              "      width: 32px;\n",
              "    }\n",
              "\n",
              "    .colab-df-convert:hover {\n",
              "      background-color: #E2EBFA;\n",
              "      box-shadow: 0px 1px 2px rgba(60, 64, 67, 0.3), 0px 1px 3px 1px rgba(60, 64, 67, 0.15);\n",
              "      fill: #174EA6;\n",
              "    }\n",
              "\n",
              "    [theme=dark] .colab-df-convert {\n",
              "      background-color: #3B4455;\n",
              "      fill: #D2E3FC;\n",
              "    }\n",
              "\n",
              "    [theme=dark] .colab-df-convert:hover {\n",
              "      background-color: #434B5C;\n",
              "      box-shadow: 0px 1px 3px 1px rgba(0, 0, 0, 0.15);\n",
              "      filter: drop-shadow(0px 1px 2px rgba(0, 0, 0, 0.3));\n",
              "      fill: #FFFFFF;\n",
              "    }\n",
              "  </style>\n",
              "\n",
              "      <script>\n",
              "        const buttonEl =\n",
              "          document.querySelector('#df-d902ca68-7e96-451c-8b1f-616f4e3d4210 button.colab-df-convert');\n",
              "        buttonEl.style.display =\n",
              "          google.colab.kernel.accessAllowed ? 'block' : 'none';\n",
              "\n",
              "        async function convertToInteractive(key) {\n",
              "          const element = document.querySelector('#df-d902ca68-7e96-451c-8b1f-616f4e3d4210');\n",
              "          const dataTable =\n",
              "            await google.colab.kernel.invokeFunction('convertToInteractive',\n",
              "                                                     [key], {});\n",
              "          if (!dataTable) return;\n",
              "\n",
              "          const docLinkHtml = 'Like what you see? Visit the ' +\n",
              "            '<a target=\"_blank\" href=https://colab.research.google.com/notebooks/data_table.ipynb>data table notebook</a>'\n",
              "            + ' to learn more about interactive tables.';\n",
              "          element.innerHTML = '';\n",
              "          dataTable['output_type'] = 'display_data';\n",
              "          await google.colab.output.renderOutput(dataTable, element);\n",
              "          const docLink = document.createElement('div');\n",
              "          docLink.innerHTML = docLinkHtml;\n",
              "          element.appendChild(docLink);\n",
              "        }\n",
              "      </script>\n",
              "    </div>\n",
              "  </div>\n",
              "  "
            ]
          },
          "metadata": {},
          "execution_count": 24
        }
      ]
    },
    {
      "cell_type": "markdown",
      "source": [
        "**Graph - Genre vs Duration**"
      ],
      "metadata": {
        "id": "RQv0C7Z9ojN-"
      },
      "id": "RQv0C7Z9ojN-"
    },
    {
      "cell_type": "code",
      "source": [
        "df1.sort_values('duration', ascending=True).plot(kind = 'bar',figsize=(15,10))"
      ],
      "metadata": {
        "colab": {
          "base_uri": "https://localhost:8080/",
          "height": 681
        },
        "id": "Ci3p1Q8jnKST",
        "outputId": "4765cf10-a8ef-4896-efcc-052d201e46bb"
      },
      "id": "Ci3p1Q8jnKST",
      "execution_count": 25,
      "outputs": [
        {
          "output_type": "execute_result",
          "data": {
            "text/plain": [
              "<matplotlib.axes._subplots.AxesSubplot at 0x7f2e8fc2e210>"
            ]
          },
          "metadata": {},
          "execution_count": 25
        },
        {
          "output_type": "display_data",
          "data": {
            "text/plain": [
              "<Figure size 1080x720 with 1 Axes>"
            ],
            "image/png": "[encoded data removed]"
          },
          "metadata": {
            "needs_background": "light"
          }
        }
      ]
    },
    {
      "cell_type": "markdown",
      "metadata": {
        "id": "081f6a82"
      },
      "source": [
        "### 7. Which Genre is the best to make a movie to get maximum gross income?"
      ],
      "id": "081f6a82"
    },
    {
      "cell_type": "markdown",
      "source": [
        "**Created a seperate dataset as data1 where genre was splitted**"
      ],
      "metadata": {
        "id": "2XOW6s7sproT"
      },
      "id": "2XOW6s7sproT"
    },
    {
      "cell_type": "code",
      "execution_count": 26,
      "metadata": {
        "id": "499ae97d"
      },
      "outputs": [],
      "source": [
        "data1 = pd.DataFrame()\n",
        "data1 = df[['name', 'genres','gross_income']]\n",
        "data2 = df.groupby(['genres']).mean()"
      ],
      "id": "499ae97d"
    },
    {
      "cell_type": "markdown",
      "source": [
        "**Sanitize gross income**"
      ],
      "metadata": {
        "id": "0SDE2U1EqapV"
      },
      "id": "0SDE2U1EqapV"
    },
    {
      "cell_type": "code",
      "source": [
        "data1['gross_income'] = data['gross_income'].str.replace(',','').str.replace('$', '').str.replace('M', '').astype(float).round(2)\n",
        "data1"
      ],
      "metadata": {
        "colab": {
          "base_uri": "https://localhost:8080/",
          "height": 587
        },
        "id": "rlKLxENKFDsH",
        "outputId": "e631c42f-cc3b-4d0a-b8c0-f21e4a129b7a"
      },
      "id": "rlKLxENKFDsH",
      "execution_count": 27,
      "outputs": [
        {
          "output_type": "stream",
          "name": "stderr",
          "text": [
            "/usr/local/lib/python3.7/dist-packages/ipykernel_launcher.py:1: FutureWarning: The default value of regex will change from True to False in a future version. In addition, single character regular expressions will *not* be treated as literal strings when regex=True.\n",
            "  \"\"\"Entry point for launching an IPython kernel.\n",
            "/usr/local/lib/python3.7/dist-packages/ipykernel_launcher.py:1: SettingWithCopyWarning: \n",
            "A value is trying to be set on a copy of a slice from a DataFrame.\n",
            "Try using .loc[row_indexer,col_indexer] = value instead\n",
            "\n",
            "See the caveats in the documentation: https://pandas.pydata.org/pandas-docs/stable/user_guide/indexing.html#returning-a-view-versus-a-copy\n",
            "  \"\"\"Entry point for launching an IPython kernel.\n"
          ]
        },
        {
          "output_type": "execute_result",
          "data": {
            "text/plain": [
              "                                    name     genres  gross_income\n",
              "0                    Beverly Hills Ninja     Action    31235710.0\n",
              "0                    Beverly Hills Ninja     Comedy    31235710.0\n",
              "1      Monster High: New Ghoul at School  Animation       11000.0\n",
              "1      Monster High: New Ghoul at School    Fantasy       11000.0\n",
              "2          The Killer in the Guest House   Thriller      132863.0\n",
              "...                                  ...        ...           ...\n",
              "20787       Elliot the Littlest Reindeer  Animation      190581.0\n",
              "20787       Elliot the Littlest Reindeer     Family      190581.0\n",
              "20788                 Lawrence of Arabia  Adventure    44824144.0\n",
              "20788                 Lawrence of Arabia  Biography    44824144.0\n",
              "20788                 Lawrence of Arabia      Drama    44824144.0\n",
              "\n",
              "[53854 rows x 3 columns]"
            ],
            "text/html": [
              "\n",
              "  <div id=\"df-a19bb776-f11c-4854-9ebb-804b4b743780\">\n",
              "    <div class=\"colab-df-container\">\n",
              "      <div>\n",
              "<style scoped>\n",
              "    .dataframe tbody tr th:only-of-type {\n",
              "        vertical-align: middle;\n",
              "    }\n",
              "\n",
              "    .dataframe tbody tr th {\n",
              "        vertical-align: top;\n",
              "    }\n",
              "\n",
              "    .dataframe thead th {\n",
              "        text-align: right;\n",
              "    }\n",
              "</style>\n",
              "<table border=\"1\" class=\"dataframe\">\n",
              "  <thead>\n",
              "    <tr style=\"text-align: right;\">\n",
              "      <th></th>\n",
              "      <th>name</th>\n",
              "      <th>genres</th>\n",
              "      <th>gross_income</th>\n",
              "    </tr>\n",
              "  </thead>\n",
              "  <tbody>\n",
              "    <tr>\n",
              "      <th>0</th>\n",
              "      <td>Beverly Hills Ninja</td>\n",
              "      <td>Action</td>\n",
              "      <td>31235710.0</td>\n",
              "    </tr>\n",
              "    <tr>\n",
              "      <th>0</th>\n",
              "      <td>Beverly Hills Ninja</td>\n",
              "      <td>Comedy</td>\n",
              "      <td>31235710.0</td>\n",
              "    </tr>\n",
              "    <tr>\n",
              "      <th>1</th>\n",
              "      <td>Monster High: New Ghoul at School</td>\n",
              "      <td>Animation</td>\n",
              "      <td>11000.0</td>\n",
              "    </tr>\n",
              "    <tr>\n",
              "      <th>1</th>\n",
              "      <td>Monster High: New Ghoul at School</td>\n",
              "      <td>Fantasy</td>\n",
              "      <td>11000.0</td>\n",
              "    </tr>\n",
              "    <tr>\n",
              "      <th>2</th>\n",
              "      <td>The Killer in the Guest House</td>\n",
              "      <td>Thriller</td>\n",
              "      <td>132863.0</td>\n",
              "    </tr>\n",
              "    <tr>\n",
              "      <th>...</th>\n",
              "      <td>...</td>\n",
              "      <td>...</td>\n",
              "      <td>...</td>\n",
              "    </tr>\n",
              "    <tr>\n",
              "      <th>20787</th>\n",
              "      <td>Elliot the Littlest Reindeer</td>\n",
              "      <td>Animation</td>\n",
              "      <td>190581.0</td>\n",
              "    </tr>\n",
              "    <tr>\n",
              "      <th>20787</th>\n",
              "      <td>Elliot the Littlest Reindeer</td>\n",
              "      <td>Family</td>\n",
              "      <td>190581.0</td>\n",
              "    </tr>\n",
              "    <tr>\n",
              "      <th>20788</th>\n",
              "      <td>Lawrence of Arabia</td>\n",
              "      <td>Adventure</td>\n",
              "      <td>44824144.0</td>\n",
              "    </tr>\n",
              "    <tr>\n",
              "      <th>20788</th>\n",
              "      <td>Lawrence of Arabia</td>\n",
              "      <td>Biography</td>\n",
              "      <td>44824144.0</td>\n",
              "    </tr>\n",
              "    <tr>\n",
              "      <th>20788</th>\n",
              "      <td>Lawrence of Arabia</td>\n",
              "      <td>Drama</td>\n",
              "      <td>44824144.0</td>\n",
              "    </tr>\n",
              "  </tbody>\n",
              "</table>\n",
              "<p>53854 rows × 3 columns</p>\n",
              "</div>\n",
              "      <button class=\"colab-df-convert\" onclick=\"convertToInteractive('df-a19bb776-f11c-4854-9ebb-804b4b743780')\"\n",
              "              title=\"Convert this dataframe to an interactive table.\"\n",
              "              style=\"display:none;\">\n",
              "        \n",
              "  <svg xmlns=\"http://www.w3.org/2000/svg\" height=\"24px\"viewBox=\"0 0 24 24\"\n",
              "       width=\"24px\">\n",
              "    <path d=\"M0 0h24v24H0V0z\" fill=\"none\"/>\n",
              "    <path d=\"M18.56 5.44l.94 2.06.94-2.06 2.06-.94-2.06-.94-.94-2.06-.94 2.06-2.06.94zm-11 1L8.5 8.5l.94-2.06 2.06-.94-2.06-.94L8.5 2.5l-.94 2.06-2.06.94zm10 10l.94 2.06.94-2.06 2.06-.94-2.06-.94-.94-2.06-.94 2.06-2.06.94z\"/><path d=\"M17.41 7.96l-1.37-1.37c-.4-.4-.92-.59-1.43-.59-.52 0-1.04.2-1.43.59L10.3 9.45l-7.72 7.72c-.78.78-.78 2.05 0 2.83L4 21.41c.39.39.9.59 1.41.59.51 0 1.02-.2 1.41-.59l7.78-7.78 2.81-2.81c.8-.78.8-2.07 0-2.86zM5.41 20L4 18.59l7.72-7.72 1.47 1.35L5.41 20z\"/>\n",
              "  </svg>\n",
              "      </button>\n",
              "      \n",
              "  <style>\n",
              "    .colab-df-container {\n",
              "      display:flex;\n",
              "      flex-wrap:wrap;\n",
              "      gap: 12px;\n",
              "    }\n",
              "\n",
              "    .colab-df-convert {\n",
              "      background-color: #E8F0FE;\n",
              "      border: none;\n",
              "      border-radius: 50%;\n",
              "      cursor: pointer;\n",
              "      display: none;\n",
              "      fill: #1967D2;\n",
              "      height: 32px;\n",
              "      padding: 0 0 0 0;\n",
              "      width: 32px;\n",
              "    }\n",
              "\n",
              "    .colab-df-convert:hover {\n",
              "      background-color: #E2EBFA;\n",
              "      box-shadow: 0px 1px 2px rgba(60, 64, 67, 0.3), 0px 1px 3px 1px rgba(60, 64, 67, 0.15);\n",
              "      fill: #174EA6;\n",
              "    }\n",
              "\n",
              "    [theme=dark] .colab-df-convert {\n",
              "      background-color: #3B4455;\n",
              "      fill: #D2E3FC;\n",
              "    }\n",
              "\n",
              "    [theme=dark] .colab-df-convert:hover {\n",
              "      background-color: #434B5C;\n",
              "      box-shadow: 0px 1px 3px 1px rgba(0, 0, 0, 0.15);\n",
              "      filter: drop-shadow(0px 1px 2px rgba(0, 0, 0, 0.3));\n",
              "      fill: #FFFFFF;\n",
              "    }\n",
              "  </style>\n",
              "\n",
              "      <script>\n",
              "        const buttonEl =\n",
              "          document.querySelector('#df-a19bb776-f11c-4854-9ebb-804b4b743780 button.colab-df-convert');\n",
              "        buttonEl.style.display =\n",
              "          google.colab.kernel.accessAllowed ? 'block' : 'none';\n",
              "\n",
              "        async function convertToInteractive(key) {\n",
              "          const element = document.querySelector('#df-a19bb776-f11c-4854-9ebb-804b4b743780');\n",
              "          const dataTable =\n",
              "            await google.colab.kernel.invokeFunction('convertToInteractive',\n",
              "                                                     [key], {});\n",
              "          if (!dataTable) return;\n",
              "\n",
              "          const docLinkHtml = 'Like what you see? Visit the ' +\n",
              "            '<a target=\"_blank\" href=https://colab.research.google.com/notebooks/data_table.ipynb>data table notebook</a>'\n",
              "            + ' to learn more about interactive tables.';\n",
              "          element.innerHTML = '';\n",
              "          dataTable['output_type'] = 'display_data';\n",
              "          await google.colab.output.renderOutput(dataTable, element);\n",
              "          const docLink = document.createElement('div');\n",
              "          docLink.innerHTML = docLinkHtml;\n",
              "          element.appendChild(docLink);\n",
              "        }\n",
              "      </script>\n",
              "    </div>\n",
              "  </div>\n",
              "  "
            ]
          },
          "metadata": {},
          "execution_count": 27
        }
      ]
    },
    {
      "cell_type": "code",
      "source": [
        "data1 = data1.groupby(['genres']).mean()"
      ],
      "metadata": {
        "id": "bqP0wUp9GIxy"
      },
      "id": "bqP0wUp9GIxy",
      "execution_count": 28,
      "outputs": []
    },
    {
      "cell_type": "code",
      "source": [
        "data1.sort_values(by = ['gross_income'], ascending=False).head(1)"
      ],
      "metadata": {
        "colab": {
          "base_uri": "https://localhost:8080/",
          "height": 112
        },
        "id": "7b8PzUf1p6SB",
        "outputId": "43d2c2e1-503b-4f45-f89e-c5cbb41bc7c7"
      },
      "id": "7b8PzUf1p6SB",
      "execution_count": 29,
      "outputs": [
        {
          "output_type": "execute_result",
          "data": {
            "text/plain": [
              "           gross_income\n",
              "genres                 \n",
              "Adventure  3.818724e+07"
            ],
            "text/html": [
              "\n",
              "  <div id=\"df-2e4b1a59-e31b-4a9f-b915-4f3fb48e2365\">\n",
              "    <div class=\"colab-df-container\">\n",
              "      <div>\n",
              "<style scoped>\n",
              "    .dataframe tbody tr th:only-of-type {\n",
              "        vertical-align: middle;\n",
              "    }\n",
              "\n",
              "    .dataframe tbody tr th {\n",
              "        vertical-align: top;\n",
              "    }\n",
              "\n",
              "    .dataframe thead th {\n",
              "        text-align: right;\n",
              "    }\n",
              "</style>\n",
              "<table border=\"1\" class=\"dataframe\">\n",
              "  <thead>\n",
              "    <tr style=\"text-align: right;\">\n",
              "      <th></th>\n",
              "      <th>gross_income</th>\n",
              "    </tr>\n",
              "    <tr>\n",
              "      <th>genres</th>\n",
              "      <th></th>\n",
              "    </tr>\n",
              "  </thead>\n",
              "  <tbody>\n",
              "    <tr>\n",
              "      <th>Adventure</th>\n",
              "      <td>3.818724e+07</td>\n",
              "    </tr>\n",
              "  </tbody>\n",
              "</table>\n",
              "</div>\n",
              "      <button class=\"colab-df-convert\" onclick=\"convertToInteractive('df-2e4b1a59-e31b-4a9f-b915-4f3fb48e2365')\"\n",
              "              title=\"Convert this dataframe to an interactive table.\"\n",
              "              style=\"display:none;\">\n",
              "        \n",
              "  <svg xmlns=\"http://www.w3.org/2000/svg\" height=\"24px\"viewBox=\"0 0 24 24\"\n",
              "       width=\"24px\">\n",
              "    <path d=\"M0 0h24v24H0V0z\" fill=\"none\"/>\n",
              "    <path d=\"M18.56 5.44l.94 2.06.94-2.06 2.06-.94-2.06-.94-.94-2.06-.94 2.06-2.06.94zm-11 1L8.5 8.5l.94-2.06 2.06-.94-2.06-.94L8.5 2.5l-.94 2.06-2.06.94zm10 10l.94 2.06.94-2.06 2.06-.94-2.06-.94-.94-2.06-.94 2.06-2.06.94z\"/><path d=\"M17.41 7.96l-1.37-1.37c-.4-.4-.92-.59-1.43-.59-.52 0-1.04.2-1.43.59L10.3 9.45l-7.72 7.72c-.78.78-.78 2.05 0 2.83L4 21.41c.39.39.9.59 1.41.59.51 0 1.02-.2 1.41-.59l7.78-7.78 2.81-2.81c.8-.78.8-2.07 0-2.86zM5.41 20L4 18.59l7.72-7.72 1.47 1.35L5.41 20z\"/>\n",
              "  </svg>\n",
              "      </button>\n",
              "      \n",
              "  <style>\n",
              "    .colab-df-container {\n",
              "      display:flex;\n",
              "      flex-wrap:wrap;\n",
              "      gap: 12px;\n",
              "    }\n",
              "\n",
              "    .colab-df-convert {\n",
              "      background-color: #E8F0FE;\n",
              "      border: none;\n",
              "      border-radius: 50%;\n",
              "      cursor: pointer;\n",
              "      display: none;\n",
              "      fill: #1967D2;\n",
              "      height: 32px;\n",
              "      padding: 0 0 0 0;\n",
              "      width: 32px;\n",
              "    }\n",
              "\n",
              "    .colab-df-convert:hover {\n",
              "      background-color: #E2EBFA;\n",
              "      box-shadow: 0px 1px 2px rgba(60, 64, 67, 0.3), 0px 1px 3px 1px rgba(60, 64, 67, 0.15);\n",
              "      fill: #174EA6;\n",
              "    }\n",
              "\n",
              "    [theme=dark] .colab-df-convert {\n",
              "      background-color: #3B4455;\n",
              "      fill: #D2E3FC;\n",
              "    }\n",
              "\n",
              "    [theme=dark] .colab-df-convert:hover {\n",
              "      background-color: #434B5C;\n",
              "      box-shadow: 0px 1px 3px 1px rgba(0, 0, 0, 0.15);\n",
              "      filter: drop-shadow(0px 1px 2px rgba(0, 0, 0, 0.3));\n",
              "      fill: #FFFFFF;\n",
              "    }\n",
              "  </style>\n",
              "\n",
              "      <script>\n",
              "        const buttonEl =\n",
              "          document.querySelector('#df-2e4b1a59-e31b-4a9f-b915-4f3fb48e2365 button.colab-df-convert');\n",
              "        buttonEl.style.display =\n",
              "          google.colab.kernel.accessAllowed ? 'block' : 'none';\n",
              "\n",
              "        async function convertToInteractive(key) {\n",
              "          const element = document.querySelector('#df-2e4b1a59-e31b-4a9f-b915-4f3fb48e2365');\n",
              "          const dataTable =\n",
              "            await google.colab.kernel.invokeFunction('convertToInteractive',\n",
              "                                                     [key], {});\n",
              "          if (!dataTable) return;\n",
              "\n",
              "          const docLinkHtml = 'Like what you see? Visit the ' +\n",
              "            '<a target=\"_blank\" href=https://colab.research.google.com/notebooks/data_table.ipynb>data table notebook</a>'\n",
              "            + ' to learn more about interactive tables.';\n",
              "          element.innerHTML = '';\n",
              "          dataTable['output_type'] = 'display_data';\n",
              "          await google.colab.output.renderOutput(dataTable, element);\n",
              "          const docLink = document.createElement('div');\n",
              "          docLink.innerHTML = docLinkHtml;\n",
              "          element.appendChild(docLink);\n",
              "        }\n",
              "      </script>\n",
              "    </div>\n",
              "  </div>\n",
              "  "
            ]
          },
          "metadata": {},
          "execution_count": 29
        }
      ]
    },
    {
      "cell_type": "markdown",
      "source": [
        "**Bar Graph - Gross Income vs Genre**"
      ],
      "metadata": {
        "id": "GWNF1BePpZs_"
      },
      "id": "GWNF1BePpZs_"
    },
    {
      "cell_type": "code",
      "source": [
        "data1.sort_values(by = ['gross_income'], ascending=False).plot.bar(title = 'Average Gross Income - Genre',figsize=(15,10))"
      ],
      "metadata": {
        "colab": {
          "base_uri": "https://localhost:8080/",
          "height": 697
        },
        "id": "mR6O_JjTGSnH",
        "outputId": "39a55fe7-2dd5-4d2e-cc5d-9a3d3d0ebaea"
      },
      "id": "mR6O_JjTGSnH",
      "execution_count": 30,
      "outputs": [
        {
          "output_type": "execute_result",
          "data": {
            "text/plain": [
              "<matplotlib.axes._subplots.AxesSubplot at 0x7f2e8fba7d90>"
            ]
          },
          "metadata": {},
          "execution_count": 30
        },
        {
          "output_type": "display_data",
          "data": {
            "text/plain": [
              "<Figure size 1080x720 with 1 Axes>"
            ],
            "image/png": "[encoded data removed]"
          },
          "metadata": {
            "needs_background": "light"
          }
        }
      ]
    },
    {
      "cell_type": "markdown",
      "metadata": {
        "id": "9532b145"
      },
      "source": [
        "### 8. Which Genre is the worst to make money from a movie?"
      ],
      "id": "9532b145"
    },
    {
      "cell_type": "markdown",
      "source": [
        "**Same dataset used from above 7th question**"
      ],
      "metadata": {
        "id": "Mn8S5dGQq2mN"
      },
      "id": "Mn8S5dGQq2mN"
    },
    {
      "cell_type": "code",
      "source": [
        "data1.sort_values(by = ['gross_income'], ascending=False).tail(1)"
      ],
      "metadata": {
        "colab": {
          "base_uri": "https://localhost:8080/",
          "height": 112
        },
        "id": "woLEV8myqByO",
        "outputId": "d5f26242-b352-4a9c-fc45-dca4e5d27819"
      },
      "id": "woLEV8myqByO",
      "execution_count": 31,
      "outputs": [
        {
          "output_type": "execute_result",
          "data": {
            "text/plain": [
              "        gross_income\n",
              "genres              \n",
              "News       561811.75"
            ],
            "text/html": [
              "\n",
              "  <div id=\"df-7073377b-68ff-470f-b414-7514e93fd00b\">\n",
              "    <div class=\"colab-df-container\">\n",
              "      <div>\n",
              "<style scoped>\n",
              "    .dataframe tbody tr th:only-of-type {\n",
              "        vertical-align: middle;\n",
              "    }\n",
              "\n",
              "    .dataframe tbody tr th {\n",
              "        vertical-align: top;\n",
              "    }\n",
              "\n",
              "    .dataframe thead th {\n",
              "        text-align: right;\n",
              "    }\n",
              "</style>\n",
              "<table border=\"1\" class=\"dataframe\">\n",
              "  <thead>\n",
              "    <tr style=\"text-align: right;\">\n",
              "      <th></th>\n",
              "      <th>gross_income</th>\n",
              "    </tr>\n",
              "    <tr>\n",
              "      <th>genres</th>\n",
              "      <th></th>\n",
              "    </tr>\n",
              "  </thead>\n",
              "  <tbody>\n",
              "    <tr>\n",
              "      <th>News</th>\n",
              "      <td>561811.75</td>\n",
              "    </tr>\n",
              "  </tbody>\n",
              "</table>\n",
              "</div>\n",
              "      <button class=\"colab-df-convert\" onclick=\"convertToInteractive('df-7073377b-68ff-470f-b414-7514e93fd00b')\"\n",
              "              title=\"Convert this dataframe to an interactive table.\"\n",
              "              style=\"display:none;\">\n",
              "        \n",
              "  <svg xmlns=\"http://www.w3.org/2000/svg\" height=\"24px\"viewBox=\"0 0 24 24\"\n",
              "       width=\"24px\">\n",
              "    <path d=\"M0 0h24v24H0V0z\" fill=\"none\"/>\n",
              "    <path d=\"M18.56 5.44l.94 2.06.94-2.06 2.06-.94-2.06-.94-.94-2.06-.94 2.06-2.06.94zm-11 1L8.5 8.5l.94-2.06 2.06-.94-2.06-.94L8.5 2.5l-.94 2.06-2.06.94zm10 10l.94 2.06.94-2.06 2.06-.94-2.06-.94-.94-2.06-.94 2.06-2.06.94z\"/><path d=\"M17.41 7.96l-1.37-1.37c-.4-.4-.92-.59-1.43-.59-.52 0-1.04.2-1.43.59L10.3 9.45l-7.72 7.72c-.78.78-.78 2.05 0 2.83L4 21.41c.39.39.9.59 1.41.59.51 0 1.02-.2 1.41-.59l7.78-7.78 2.81-2.81c.8-.78.8-2.07 0-2.86zM5.41 20L4 18.59l7.72-7.72 1.47 1.35L5.41 20z\"/>\n",
              "  </svg>\n",
              "      </button>\n",
              "      \n",
              "  <style>\n",
              "    .colab-df-container {\n",
              "      display:flex;\n",
              "      flex-wrap:wrap;\n",
              "      gap: 12px;\n",
              "    }\n",
              "\n",
              "    .colab-df-convert {\n",
              "      background-color: #E8F0FE;\n",
              "      border: none;\n",
              "      border-radius: 50%;\n",
              "      cursor: pointer;\n",
              "      display: none;\n",
              "      fill: #1967D2;\n",
              "      height: 32px;\n",
              "      padding: 0 0 0 0;\n",
              "      width: 32px;\n",
              "    }\n",
              "\n",
              "    .colab-df-convert:hover {\n",
              "      background-color: #E2EBFA;\n",
              "      box-shadow: 0px 1px 2px rgba(60, 64, 67, 0.3), 0px 1px 3px 1px rgba(60, 64, 67, 0.15);\n",
              "      fill: #174EA6;\n",
              "    }\n",
              "\n",
              "    [theme=dark] .colab-df-convert {\n",
              "      background-color: #3B4455;\n",
              "      fill: #D2E3FC;\n",
              "    }\n",
              "\n",
              "    [theme=dark] .colab-df-convert:hover {\n",
              "      background-color: #434B5C;\n",
              "      box-shadow: 0px 1px 3px 1px rgba(0, 0, 0, 0.15);\n",
              "      filter: drop-shadow(0px 1px 2px rgba(0, 0, 0, 0.3));\n",
              "      fill: #FFFFFF;\n",
              "    }\n",
              "  </style>\n",
              "\n",
              "      <script>\n",
              "        const buttonEl =\n",
              "          document.querySelector('#df-7073377b-68ff-470f-b414-7514e93fd00b button.colab-df-convert');\n",
              "        buttonEl.style.display =\n",
              "          google.colab.kernel.accessAllowed ? 'block' : 'none';\n",
              "\n",
              "        async function convertToInteractive(key) {\n",
              "          const element = document.querySelector('#df-7073377b-68ff-470f-b414-7514e93fd00b');\n",
              "          const dataTable =\n",
              "            await google.colab.kernel.invokeFunction('convertToInteractive',\n",
              "                                                     [key], {});\n",
              "          if (!dataTable) return;\n",
              "\n",
              "          const docLinkHtml = 'Like what you see? Visit the ' +\n",
              "            '<a target=\"_blank\" href=https://colab.research.google.com/notebooks/data_table.ipynb>data table notebook</a>'\n",
              "            + ' to learn more about interactive tables.';\n",
              "          element.innerHTML = '';\n",
              "          dataTable['output_type'] = 'display_data';\n",
              "          await google.colab.output.renderOutput(dataTable, element);\n",
              "          const docLink = document.createElement('div');\n",
              "          docLink.innerHTML = docLinkHtml;\n",
              "          element.appendChild(docLink);\n",
              "        }\n",
              "      </script>\n",
              "    </div>\n",
              "  </div>\n",
              "  "
            ]
          },
          "metadata": {},
          "execution_count": 31
        }
      ]
    },
    {
      "cell_type": "code",
      "source": [
        "data1.sort_values(by = ['gross_income'], ascending=True).plot.bar(title = 'Average Gross Income - Genre',figsize=(15,10))"
      ],
      "metadata": {
        "colab": {
          "base_uri": "https://localhost:8080/",
          "height": 697
        },
        "id": "bfAQuSpqKiDk",
        "outputId": "d1197eeb-56ae-4f86-e896-f030e70f2d43"
      },
      "id": "bfAQuSpqKiDk",
      "execution_count": 32,
      "outputs": [
        {
          "output_type": "execute_result",
          "data": {
            "text/plain": [
              "<matplotlib.axes._subplots.AxesSubplot at 0x7f2e8ff03410>"
            ]
          },
          "metadata": {},
          "execution_count": 32
        },
        {
          "output_type": "display_data",
          "data": {
            "text/plain": [
              "<Figure size 1080x720 with 1 Axes>"
            ],
            "image/png": "[encoded data removed]"
          },
          "metadata": {
            "needs_background": "light"
          }
        }
      ]
    },
    {
      "cell_type": "markdown",
      "metadata": {
        "id": "e86dd7ab"
      },
      "source": [
        "### 9. Distribution of Average Gross Income of each genre?"
      ],
      "id": "e86dd7ab"
    },
    {
      "cell_type": "markdown",
      "source": [
        "**Created a seperate dataset as df3 from genre was splitted dataset(df)**"
      ],
      "metadata": {
        "id": "LKJctrljq9s3"
      },
      "id": "LKJctrljq9s3"
    },
    {
      "cell_type": "code",
      "execution_count": 33,
      "metadata": {
        "id": "d1e66c21"
      },
      "outputs": [],
      "source": [
        "df3 = df[['name', 'genres','gross_income']]"
      ],
      "id": "d1e66c21"
    },
    {
      "cell_type": "code",
      "execution_count": 34,
      "metadata": {
        "colab": {
          "base_uri": "https://localhost:8080/",
          "height": 206
        },
        "id": "hFxV5oHBLUQP",
        "outputId": "eec2c8ff-6fba-471e-ae78-bf71a51046e5"
      },
      "outputs": [
        {
          "output_type": "execute_result",
          "data": {
            "text/plain": [
              "                                name     genres gross_income\n",
              "0                Beverly Hills Ninja     Action   31,235,710\n",
              "0                Beverly Hills Ninja     Comedy   31,235,710\n",
              "1  Monster High: New Ghoul at School  Animation       11,000\n",
              "1  Monster High: New Ghoul at School    Fantasy       11,000\n",
              "2      The Killer in the Guest House   Thriller      132,863"
            ],
            "text/html": [
              "\n",
              "  <div id=\"df-9b0347e3-18c1-491e-afb7-3b2d6c5c48a0\">\n",
              "    <div class=\"colab-df-container\">\n",
              "      <div>\n",
              "<style scoped>\n",
              "    .dataframe tbody tr th:only-of-type {\n",
              "        vertical-align: middle;\n",
              "    }\n",
              "\n",
              "    .dataframe tbody tr th {\n",
              "        vertical-align: top;\n",
              "    }\n",
              "\n",
              "    .dataframe thead th {\n",
              "        text-align: right;\n",
              "    }\n",
              "</style>\n",
              "<table border=\"1\" class=\"dataframe\">\n",
              "  <thead>\n",
              "    <tr style=\"text-align: right;\">\n",
              "      <th></th>\n",
              "      <th>name</th>\n",
              "      <th>genres</th>\n",
              "      <th>gross_income</th>\n",
              "    </tr>\n",
              "  </thead>\n",
              "  <tbody>\n",
              "    <tr>\n",
              "      <th>0</th>\n",
              "      <td>Beverly Hills Ninja</td>\n",
              "      <td>Action</td>\n",
              "      <td>31,235,710</td>\n",
              "    </tr>\n",
              "    <tr>\n",
              "      <th>0</th>\n",
              "      <td>Beverly Hills Ninja</td>\n",
              "      <td>Comedy</td>\n",
              "      <td>31,235,710</td>\n",
              "    </tr>\n",
              "    <tr>\n",
              "      <th>1</th>\n",
              "      <td>Monster High: New Ghoul at School</td>\n",
              "      <td>Animation</td>\n",
              "      <td>11,000</td>\n",
              "    </tr>\n",
              "    <tr>\n",
              "      <th>1</th>\n",
              "      <td>Monster High: New Ghoul at School</td>\n",
              "      <td>Fantasy</td>\n",
              "      <td>11,000</td>\n",
              "    </tr>\n",
              "    <tr>\n",
              "      <th>2</th>\n",
              "      <td>The Killer in the Guest House</td>\n",
              "      <td>Thriller</td>\n",
              "      <td>132,863</td>\n",
              "    </tr>\n",
              "  </tbody>\n",
              "</table>\n",
              "</div>\n",
              "      <button class=\"colab-df-convert\" onclick=\"convertToInteractive('df-9b0347e3-18c1-491e-afb7-3b2d6c5c48a0')\"\n",
              "              title=\"Convert this dataframe to an interactive table.\"\n",
              "              style=\"display:none;\">\n",
              "        \n",
              "  <svg xmlns=\"http://www.w3.org/2000/svg\" height=\"24px\"viewBox=\"0 0 24 24\"\n",
              "       width=\"24px\">\n",
              "    <path d=\"M0 0h24v24H0V0z\" fill=\"none\"/>\n",
              "    <path d=\"M18.56 5.44l.94 2.06.94-2.06 2.06-.94-2.06-.94-.94-2.06-.94 2.06-2.06.94zm-11 1L8.5 8.5l.94-2.06 2.06-.94-2.06-.94L8.5 2.5l-.94 2.06-2.06.94zm10 10l.94 2.06.94-2.06 2.06-.94-2.06-.94-.94-2.06-.94 2.06-2.06.94z\"/><path d=\"M17.41 7.96l-1.37-1.37c-.4-.4-.92-.59-1.43-.59-.52 0-1.04.2-1.43.59L10.3 9.45l-7.72 7.72c-.78.78-.78 2.05 0 2.83L4 21.41c.39.39.9.59 1.41.59.51 0 1.02-.2 1.41-.59l7.78-7.78 2.81-2.81c.8-.78.8-2.07 0-2.86zM5.41 20L4 18.59l7.72-7.72 1.47 1.35L5.41 20z\"/>\n",
              "  </svg>\n",
              "      </button>\n",
              "      \n",
              "  <style>\n",
              "    .colab-df-container {\n",
              "      display:flex;\n",
              "      flex-wrap:wrap;\n",
              "      gap: 12px;\n",
              "    }\n",
              "\n",
              "    .colab-df-convert {\n",
              "      background-color: #E8F0FE;\n",
              "      border: none;\n",
              "      border-radius: 50%;\n",
              "      cursor: pointer;\n",
              "      display: none;\n",
              "      fill: #1967D2;\n",
              "      height: 32px;\n",
              "      padding: 0 0 0 0;\n",
              "      width: 32px;\n",
              "    }\n",
              "\n",
              "    .colab-df-convert:hover {\n",
              "      background-color: #E2EBFA;\n",
              "      box-shadow: 0px 1px 2px rgba(60, 64, 67, 0.3), 0px 1px 3px 1px rgba(60, 64, 67, 0.15);\n",
              "      fill: #174EA6;\n",
              "    }\n",
              "\n",
              "    [theme=dark] .colab-df-convert {\n",
              "      background-color: #3B4455;\n",
              "      fill: #D2E3FC;\n",
              "    }\n",
              "\n",
              "    [theme=dark] .colab-df-convert:hover {\n",
              "      background-color: #434B5C;\n",
              "      box-shadow: 0px 1px 3px 1px rgba(0, 0, 0, 0.15);\n",
              "      filter: drop-shadow(0px 1px 2px rgba(0, 0, 0, 0.3));\n",
              "      fill: #FFFFFF;\n",
              "    }\n",
              "  </style>\n",
              "\n",
              "      <script>\n",
              "        const buttonEl =\n",
              "          document.querySelector('#df-9b0347e3-18c1-491e-afb7-3b2d6c5c48a0 button.colab-df-convert');\n",
              "        buttonEl.style.display =\n",
              "          google.colab.kernel.accessAllowed ? 'block' : 'none';\n",
              "\n",
              "        async function convertToInteractive(key) {\n",
              "          const element = document.querySelector('#df-9b0347e3-18c1-491e-afb7-3b2d6c5c48a0');\n",
              "          const dataTable =\n",
              "            await google.colab.kernel.invokeFunction('convertToInteractive',\n",
              "                                                     [key], {});\n",
              "          if (!dataTable) return;\n",
              "\n",
              "          const docLinkHtml = 'Like what you see? Visit the ' +\n",
              "            '<a target=\"_blank\" href=https://colab.research.google.com/notebooks/data_table.ipynb>data table notebook</a>'\n",
              "            + ' to learn more about interactive tables.';\n",
              "          element.innerHTML = '';\n",
              "          dataTable['output_type'] = 'display_data';\n",
              "          await google.colab.output.renderOutput(dataTable, element);\n",
              "          const docLink = document.createElement('div');\n",
              "          docLink.innerHTML = docLinkHtml;\n",
              "          element.appendChild(docLink);\n",
              "        }\n",
              "      </script>\n",
              "    </div>\n",
              "  </div>\n",
              "  "
            ]
          },
          "metadata": {},
          "execution_count": 34
        }
      ],
      "source": [
        "df3.head()"
      ],
      "id": "hFxV5oHBLUQP"
    },
    {
      "cell_type": "code",
      "execution_count": 35,
      "metadata": {
        "colab": {
          "base_uri": "https://localhost:8080/"
        },
        "id": "-cPxcOLgO2om",
        "outputId": "f3103a86-db8f-4ee0-b3fd-f005087a17ba"
      },
      "outputs": [
        {
          "output_type": "execute_result",
          "data": {
            "text/plain": [
              "name            object\n",
              "genres          object\n",
              "gross_income    object\n",
              "dtype: object"
            ]
          },
          "metadata": {},
          "execution_count": 35
        }
      ],
      "source": [
        "df3.dtypes"
      ],
      "id": "-cPxcOLgO2om"
    },
    {
      "cell_type": "markdown",
      "source": [
        "**Sanitize gross income**"
      ],
      "metadata": {
        "id": "C4g13vd8rcpn"
      },
      "id": "C4g13vd8rcpn"
    },
    {
      "cell_type": "code",
      "execution_count": 36,
      "metadata": {
        "colab": {
          "base_uri": "https://localhost:8080/"
        },
        "id": "5fMeMe_CLYNc",
        "outputId": "68f396b7-4daa-40ed-9ae7-58aa24f4f7e3"
      },
      "outputs": [
        {
          "output_type": "stream",
          "name": "stderr",
          "text": [
            "/usr/local/lib/python3.7/dist-packages/ipykernel_launcher.py:1: FutureWarning: The default value of regex will change from True to False in a future version. In addition, single character regular expressions will *not* be treated as literal strings when regex=True.\n",
            "  \"\"\"Entry point for launching an IPython kernel.\n",
            "/usr/local/lib/python3.7/dist-packages/ipykernel_launcher.py:1: SettingWithCopyWarning: \n",
            "A value is trying to be set on a copy of a slice from a DataFrame.\n",
            "Try using .loc[row_indexer,col_indexer] = value instead\n",
            "\n",
            "See the caveats in the documentation: https://pandas.pydata.org/pandas-docs/stable/user_guide/indexing.html#returning-a-view-versus-a-copy\n",
            "  \"\"\"Entry point for launching an IPython kernel.\n"
          ]
        }
      ],
      "source": [
        "df3['gross_income'] = df3['gross_income'].str.replace(',','').str.replace('$', '').str.replace('M', '').astype(float).round(2)"
      ],
      "id": "5fMeMe_CLYNc"
    },
    {
      "cell_type": "code",
      "execution_count": 37,
      "metadata": {
        "colab": {
          "base_uri": "https://localhost:8080/",
          "height": 896
        },
        "id": "8i_jk2rQnbz8",
        "outputId": "893451d9-bca1-4371-ea10-962f5e129753"
      },
      "outputs": [
        {
          "output_type": "execute_result",
          "data": {
            "text/plain": [
              "             gross_income\n",
              "genres                   \n",
              "Action       2.506403e+07\n",
              "Adventure    3.818724e+07\n",
              "Animation    3.551137e+07\n",
              "Biography    1.069973e+07\n",
              "Comedy       2.101577e+07\n",
              "Crime        1.136624e+07\n",
              "Documentary  2.866750e+06\n",
              "Drama        1.190917e+07\n",
              "Family       2.337607e+07\n",
              "Fantasy      2.563931e+07\n",
              "Film-Noir    3.281861e+06\n",
              "Game-Show    1.338264e+06\n",
              "History      1.214590e+07\n",
              "Horror       1.059779e+07\n",
              "Music        8.814454e+06\n",
              "Musical      1.925178e+07\n",
              "Mystery      1.287408e+07\n",
              "News         5.618118e+05\n",
              "Reality-TV   1.364110e+06\n",
              "Romance      1.049322e+07\n",
              "Sci-Fi       3.128868e+07\n",
              "Short        4.713364e+06\n",
              "Sport        1.070863e+07\n",
              "Thriller     1.331705e+07\n",
              "War          6.743646e+06\n",
              "Western      6.733089e+06"
            ],
            "text/html": [
              "\n",
              "  <div id=\"df-b7ccb7d5-f9ed-4a20-bc01-e435147db3cf\">\n",
              "    <div class=\"colab-df-container\">\n",
              "      <div>\n",
              "<style scoped>\n",
              "    .dataframe tbody tr th:only-of-type {\n",
              "        vertical-align: middle;\n",
              "    }\n",
              "\n",
              "    .dataframe tbody tr th {\n",
              "        vertical-align: top;\n",
              "    }\n",
              "\n",
              "    .dataframe thead th {\n",
              "        text-align: right;\n",
              "    }\n",
              "</style>\n",
              "<table border=\"1\" class=\"dataframe\">\n",
              "  <thead>\n",
              "    <tr style=\"text-align: right;\">\n",
              "      <th></th>\n",
              "      <th>gross_income</th>\n",
              "    </tr>\n",
              "    <tr>\n",
              "      <th>genres</th>\n",
              "      <th></th>\n",
              "    </tr>\n",
              "  </thead>\n",
              "  <tbody>\n",
              "    <tr>\n",
              "      <th>Action</th>\n",
              "      <td>2.506403e+07</td>\n",
              "    </tr>\n",
              "    <tr>\n",
              "      <th>Adventure</th>\n",
              "      <td>3.818724e+07</td>\n",
              "    </tr>\n",
              "    <tr>\n",
              "      <th>Animation</th>\n",
              "      <td>3.551137e+07</td>\n",
              "    </tr>\n",
              "    <tr>\n",
              "      <th>Biography</th>\n",
              "      <td>1.069973e+07</td>\n",
              "    </tr>\n",
              "    <tr>\n",
              "      <th>Comedy</th>\n",
              "      <td>2.101577e+07</td>\n",
              "    </tr>\n",
              "    <tr>\n",
              "      <th>Crime</th>\n",
              "      <td>1.136624e+07</td>\n",
              "    </tr>\n",
              "    <tr>\n",
              "      <th>Documentary</th>\n",
              "      <td>2.866750e+06</td>\n",
              "    </tr>\n",
              "    <tr>\n",
              "      <th>Drama</th>\n",
              "      <td>1.190917e+07</td>\n",
              "    </tr>\n",
              "    <tr>\n",
              "      <th>Family</th>\n",
              "      <td>2.337607e+07</td>\n",
              "    </tr>\n",
              "    <tr>\n",
              "      <th>Fantasy</th>\n",
              "      <td>2.563931e+07</td>\n",
              "    </tr>\n",
              "    <tr>\n",
              "      <th>Film-Noir</th>\n",
              "      <td>3.281861e+06</td>\n",
              "    </tr>\n",
              "    <tr>\n",
              "      <th>Game-Show</th>\n",
              "      <td>1.338264e+06</td>\n",
              "    </tr>\n",
              "    <tr>\n",
              "      <th>History</th>\n",
              "      <td>1.214590e+07</td>\n",
              "    </tr>\n",
              "    <tr>\n",
              "      <th>Horror</th>\n",
              "      <td>1.059779e+07</td>\n",
              "    </tr>\n",
              "    <tr>\n",
              "      <th>Music</th>\n",
              "      <td>8.814454e+06</td>\n",
              "    </tr>\n",
              "    <tr>\n",
              "      <th>Musical</th>\n",
              "      <td>1.925178e+07</td>\n",
              "    </tr>\n",
              "    <tr>\n",
              "      <th>Mystery</th>\n",
              "      <td>1.287408e+07</td>\n",
              "    </tr>\n",
              "    <tr>\n",
              "      <th>News</th>\n",
              "      <td>5.618118e+05</td>\n",
              "    </tr>\n",
              "    <tr>\n",
              "      <th>Reality-TV</th>\n",
              "      <td>1.364110e+06</td>\n",
              "    </tr>\n",
              "    <tr>\n",
              "      <th>Romance</th>\n",
              "      <td>1.049322e+07</td>\n",
              "    </tr>\n",
              "    <tr>\n",
              "      <th>Sci-Fi</th>\n",
              "      <td>3.128868e+07</td>\n",
              "    </tr>\n",
              "    <tr>\n",
              "      <th>Short</th>\n",
              "      <td>4.713364e+06</td>\n",
              "    </tr>\n",
              "    <tr>\n",
              "      <th>Sport</th>\n",
              "      <td>1.070863e+07</td>\n",
              "    </tr>\n",
              "    <tr>\n",
              "      <th>Thriller</th>\n",
              "      <td>1.331705e+07</td>\n",
              "    </tr>\n",
              "    <tr>\n",
              "      <th>War</th>\n",
              "      <td>6.743646e+06</td>\n",
              "    </tr>\n",
              "    <tr>\n",
              "      <th>Western</th>\n",
              "      <td>6.733089e+06</td>\n",
              "    </tr>\n",
              "  </tbody>\n",
              "</table>\n",
              "</div>\n",
              "      <button class=\"colab-df-convert\" onclick=\"convertToInteractive('df-b7ccb7d5-f9ed-4a20-bc01-e435147db3cf')\"\n",
              "              title=\"Convert this dataframe to an interactive table.\"\n",
              "              style=\"display:none;\">\n",
              "        \n",
              "  <svg xmlns=\"http://www.w3.org/2000/svg\" height=\"24px\"viewBox=\"0 0 24 24\"\n",
              "       width=\"24px\">\n",
              "    <path d=\"M0 0h24v24H0V0z\" fill=\"none\"/>\n",
              "    <path d=\"M18.56 5.44l.94 2.06.94-2.06 2.06-.94-2.06-.94-.94-2.06-.94 2.06-2.06.94zm-11 1L8.5 8.5l.94-2.06 2.06-.94-2.06-.94L8.5 2.5l-.94 2.06-2.06.94zm10 10l.94 2.06.94-2.06 2.06-.94-2.06-.94-.94-2.06-.94 2.06-2.06.94z\"/><path d=\"M17.41 7.96l-1.37-1.37c-.4-.4-.92-.59-1.43-.59-.52 0-1.04.2-1.43.59L10.3 9.45l-7.72 7.72c-.78.78-.78 2.05 0 2.83L4 21.41c.39.39.9.59 1.41.59.51 0 1.02-.2 1.41-.59l7.78-7.78 2.81-2.81c.8-.78.8-2.07 0-2.86zM5.41 20L4 18.59l7.72-7.72 1.47 1.35L5.41 20z\"/>\n",
              "  </svg>\n",
              "      </button>\n",
              "      \n",
              "  <style>\n",
              "    .colab-df-container {\n",
              "      display:flex;\n",
              "      flex-wrap:wrap;\n",
              "      gap: 12px;\n",
              "    }\n",
              "\n",
              "    .colab-df-convert {\n",
              "      background-color: #E8F0FE;\n",
              "      border: none;\n",
              "      border-radius: 50%;\n",
              "      cursor: pointer;\n",
              "      display: none;\n",
              "      fill: #1967D2;\n",
              "      height: 32px;\n",
              "      padding: 0 0 0 0;\n",
              "      width: 32px;\n",
              "    }\n",
              "\n",
              "    .colab-df-convert:hover {\n",
              "      background-color: #E2EBFA;\n",
              "      box-shadow: 0px 1px 2px rgba(60, 64, 67, 0.3), 0px 1px 3px 1px rgba(60, 64, 67, 0.15);\n",
              "      fill: #174EA6;\n",
              "    }\n",
              "\n",
              "    [theme=dark] .colab-df-convert {\n",
              "      background-color: #3B4455;\n",
              "      fill: #D2E3FC;\n",
              "    }\n",
              "\n",
              "    [theme=dark] .colab-df-convert:hover {\n",
              "      background-color: #434B5C;\n",
              "      box-shadow: 0px 1px 3px 1px rgba(0, 0, 0, 0.15);\n",
              "      filter: drop-shadow(0px 1px 2px rgba(0, 0, 0, 0.3));\n",
              "      fill: #FFFFFF;\n",
              "    }\n",
              "  </style>\n",
              "\n",
              "      <script>\n",
              "        const buttonEl =\n",
              "          document.querySelector('#df-b7ccb7d5-f9ed-4a20-bc01-e435147db3cf button.colab-df-convert');\n",
              "        buttonEl.style.display =\n",
              "          google.colab.kernel.accessAllowed ? 'block' : 'none';\n",
              "\n",
              "        async function convertToInteractive(key) {\n",
              "          const element = document.querySelector('#df-b7ccb7d5-f9ed-4a20-bc01-e435147db3cf');\n",
              "          const dataTable =\n",
              "            await google.colab.kernel.invokeFunction('convertToInteractive',\n",
              "                                                     [key], {});\n",
              "          if (!dataTable) return;\n",
              "\n",
              "          const docLinkHtml = 'Like what you see? Visit the ' +\n",
              "            '<a target=\"_blank\" href=https://colab.research.google.com/notebooks/data_table.ipynb>data table notebook</a>'\n",
              "            + ' to learn more about interactive tables.';\n",
              "          element.innerHTML = '';\n",
              "          dataTable['output_type'] = 'display_data';\n",
              "          await google.colab.output.renderOutput(dataTable, element);\n",
              "          const docLink = document.createElement('div');\n",
              "          docLink.innerHTML = docLinkHtml;\n",
              "          element.appendChild(docLink);\n",
              "        }\n",
              "      </script>\n",
              "    </div>\n",
              "  </div>\n",
              "  "
            ]
          },
          "metadata": {},
          "execution_count": 37
        }
      ],
      "source": [
        "df3 = df3.groupby(['genres']).mean()\n",
        "df3"
      ],
      "id": "8i_jk2rQnbz8"
    },
    {
      "cell_type": "code",
      "execution_count": 38,
      "metadata": {
        "colab": {
          "base_uri": "https://localhost:8080/",
          "height": 896
        },
        "id": "-5sEFfb8zj-3",
        "outputId": "94f65067-7d41-48d1-d7a5-9fe0d982ff30"
      },
      "outputs": [
        {
          "output_type": "execute_result",
          "data": {
            "text/plain": [
              "             gross_income\n",
              "genres                   \n",
              "Adventure    3.818724e+07\n",
              "Animation    3.551137e+07\n",
              "Sci-Fi       3.128868e+07\n",
              "Fantasy      2.563931e+07\n",
              "Action       2.506403e+07\n",
              "Family       2.337607e+07\n",
              "Comedy       2.101577e+07\n",
              "Musical      1.925178e+07\n",
              "Thriller     1.331705e+07\n",
              "Mystery      1.287408e+07\n",
              "History      1.214590e+07\n",
              "Drama        1.190917e+07\n",
              "Crime        1.136624e+07\n",
              "Sport        1.070863e+07\n",
              "Biography    1.069973e+07\n",
              "Horror       1.059779e+07\n",
              "Romance      1.049322e+07\n",
              "Music        8.814454e+06\n",
              "War          6.743646e+06\n",
              "Western      6.733089e+06\n",
              "Short        4.713364e+06\n",
              "Film-Noir    3.281861e+06\n",
              "Documentary  2.866750e+06\n",
              "Reality-TV   1.364110e+06\n",
              "Game-Show    1.338264e+06\n",
              "News         5.618118e+05"
            ],
            "text/html": [
              "\n",
              "  <div id=\"df-2cc93839-2ad4-4476-83c2-24c5d37b2254\">\n",
              "    <div class=\"colab-df-container\">\n",
              "      <div>\n",
              "<style scoped>\n",
              "    .dataframe tbody tr th:only-of-type {\n",
              "        vertical-align: middle;\n",
              "    }\n",
              "\n",
              "    .dataframe tbody tr th {\n",
              "        vertical-align: top;\n",
              "    }\n",
              "\n",
              "    .dataframe thead th {\n",
              "        text-align: right;\n",
              "    }\n",
              "</style>\n",
              "<table border=\"1\" class=\"dataframe\">\n",
              "  <thead>\n",
              "    <tr style=\"text-align: right;\">\n",
              "      <th></th>\n",
              "      <th>gross_income</th>\n",
              "    </tr>\n",
              "    <tr>\n",
              "      <th>genres</th>\n",
              "      <th></th>\n",
              "    </tr>\n",
              "  </thead>\n",
              "  <tbody>\n",
              "    <tr>\n",
              "      <th>Adventure</th>\n",
              "      <td>3.818724e+07</td>\n",
              "    </tr>\n",
              "    <tr>\n",
              "      <th>Animation</th>\n",
              "      <td>3.551137e+07</td>\n",
              "    </tr>\n",
              "    <tr>\n",
              "      <th>Sci-Fi</th>\n",
              "      <td>3.128868e+07</td>\n",
              "    </tr>\n",
              "    <tr>\n",
              "      <th>Fantasy</th>\n",
              "      <td>2.563931e+07</td>\n",
              "    </tr>\n",
              "    <tr>\n",
              "      <th>Action</th>\n",
              "      <td>2.506403e+07</td>\n",
              "    </tr>\n",
              "    <tr>\n",
              "      <th>Family</th>\n",
              "      <td>2.337607e+07</td>\n",
              "    </tr>\n",
              "    <tr>\n",
              "      <th>Comedy</th>\n",
              "      <td>2.101577e+07</td>\n",
              "    </tr>\n",
              "    <tr>\n",
              "      <th>Musical</th>\n",
              "      <td>1.925178e+07</td>\n",
              "    </tr>\n",
              "    <tr>\n",
              "      <th>Thriller</th>\n",
              "      <td>1.331705e+07</td>\n",
              "    </tr>\n",
              "    <tr>\n",
              "      <th>Mystery</th>\n",
              "      <td>1.287408e+07</td>\n",
              "    </tr>\n",
              "    <tr>\n",
              "      <th>History</th>\n",
              "      <td>1.214590e+07</td>\n",
              "    </tr>\n",
              "    <tr>\n",
              "      <th>Drama</th>\n",
              "      <td>1.190917e+07</td>\n",
              "    </tr>\n",
              "    <tr>\n",
              "      <th>Crime</th>\n",
              "      <td>1.136624e+07</td>\n",
              "    </tr>\n",
              "    <tr>\n",
              "      <th>Sport</th>\n",
              "      <td>1.070863e+07</td>\n",
              "    </tr>\n",
              "    <tr>\n",
              "      <th>Biography</th>\n",
              "      <td>1.069973e+07</td>\n",
              "    </tr>\n",
              "    <tr>\n",
              "      <th>Horror</th>\n",
              "      <td>1.059779e+07</td>\n",
              "    </tr>\n",
              "    <tr>\n",
              "      <th>Romance</th>\n",
              "      <td>1.049322e+07</td>\n",
              "    </tr>\n",
              "    <tr>\n",
              "      <th>Music</th>\n",
              "      <td>8.814454e+06</td>\n",
              "    </tr>\n",
              "    <tr>\n",
              "      <th>War</th>\n",
              "      <td>6.743646e+06</td>\n",
              "    </tr>\n",
              "    <tr>\n",
              "      <th>Western</th>\n",
              "      <td>6.733089e+06</td>\n",
              "    </tr>\n",
              "    <tr>\n",
              "      <th>Short</th>\n",
              "      <td>4.713364e+06</td>\n",
              "    </tr>\n",
              "    <tr>\n",
              "      <th>Film-Noir</th>\n",
              "      <td>3.281861e+06</td>\n",
              "    </tr>\n",
              "    <tr>\n",
              "      <th>Documentary</th>\n",
              "      <td>2.866750e+06</td>\n",
              "    </tr>\n",
              "    <tr>\n",
              "      <th>Reality-TV</th>\n",
              "      <td>1.364110e+06</td>\n",
              "    </tr>\n",
              "    <tr>\n",
              "      <th>Game-Show</th>\n",
              "      <td>1.338264e+06</td>\n",
              "    </tr>\n",
              "    <tr>\n",
              "      <th>News</th>\n",
              "      <td>5.618118e+05</td>\n",
              "    </tr>\n",
              "  </tbody>\n",
              "</table>\n",
              "</div>\n",
              "      <button class=\"colab-df-convert\" onclick=\"convertToInteractive('df-2cc93839-2ad4-4476-83c2-24c5d37b2254')\"\n",
              "              title=\"Convert this dataframe to an interactive table.\"\n",
              "              style=\"display:none;\">\n",
              "        \n",
              "  <svg xmlns=\"http://www.w3.org/2000/svg\" height=\"24px\"viewBox=\"0 0 24 24\"\n",
              "       width=\"24px\">\n",
              "    <path d=\"M0 0h24v24H0V0z\" fill=\"none\"/>\n",
              "    <path d=\"M18.56 5.44l.94 2.06.94-2.06 2.06-.94-2.06-.94-.94-2.06-.94 2.06-2.06.94zm-11 1L8.5 8.5l.94-2.06 2.06-.94-2.06-.94L8.5 2.5l-.94 2.06-2.06.94zm10 10l.94 2.06.94-2.06 2.06-.94-2.06-.94-.94-2.06-.94 2.06-2.06.94z\"/><path d=\"M17.41 7.96l-1.37-1.37c-.4-.4-.92-.59-1.43-.59-.52 0-1.04.2-1.43.59L10.3 9.45l-7.72 7.72c-.78.78-.78 2.05 0 2.83L4 21.41c.39.39.9.59 1.41.59.51 0 1.02-.2 1.41-.59l7.78-7.78 2.81-2.81c.8-.78.8-2.07 0-2.86zM5.41 20L4 18.59l7.72-7.72 1.47 1.35L5.41 20z\"/>\n",
              "  </svg>\n",
              "      </button>\n",
              "      \n",
              "  <style>\n",
              "    .colab-df-container {\n",
              "      display:flex;\n",
              "      flex-wrap:wrap;\n",
              "      gap: 12px;\n",
              "    }\n",
              "\n",
              "    .colab-df-convert {\n",
              "      background-color: #E8F0FE;\n",
              "      border: none;\n",
              "      border-radius: 50%;\n",
              "      cursor: pointer;\n",
              "      display: none;\n",
              "      fill: #1967D2;\n",
              "      height: 32px;\n",
              "      padding: 0 0 0 0;\n",
              "      width: 32px;\n",
              "    }\n",
              "\n",
              "    .colab-df-convert:hover {\n",
              "      background-color: #E2EBFA;\n",
              "      box-shadow: 0px 1px 2px rgba(60, 64, 67, 0.3), 0px 1px 3px 1px rgba(60, 64, 67, 0.15);\n",
              "      fill: #174EA6;\n",
              "    }\n",
              "\n",
              "    [theme=dark] .colab-df-convert {\n",
              "      background-color: #3B4455;\n",
              "      fill: #D2E3FC;\n",
              "    }\n",
              "\n",
              "    [theme=dark] .colab-df-convert:hover {\n",
              "      background-color: #434B5C;\n",
              "      box-shadow: 0px 1px 3px 1px rgba(0, 0, 0, 0.15);\n",
              "      filter: drop-shadow(0px 1px 2px rgba(0, 0, 0, 0.3));\n",
              "      fill: #FFFFFF;\n",
              "    }\n",
              "  </style>\n",
              "\n",
              "      <script>\n",
              "        const buttonEl =\n",
              "          document.querySelector('#df-2cc93839-2ad4-4476-83c2-24c5d37b2254 button.colab-df-convert');\n",
              "        buttonEl.style.display =\n",
              "          google.colab.kernel.accessAllowed ? 'block' : 'none';\n",
              "\n",
              "        async function convertToInteractive(key) {\n",
              "          const element = document.querySelector('#df-2cc93839-2ad4-4476-83c2-24c5d37b2254');\n",
              "          const dataTable =\n",
              "            await google.colab.kernel.invokeFunction('convertToInteractive',\n",
              "                                                     [key], {});\n",
              "          if (!dataTable) return;\n",
              "\n",
              "          const docLinkHtml = 'Like what you see? Visit the ' +\n",
              "            '<a target=\"_blank\" href=https://colab.research.google.com/notebooks/data_table.ipynb>data table notebook</a>'\n",
              "            + ' to learn more about interactive tables.';\n",
              "          element.innerHTML = '';\n",
              "          dataTable['output_type'] = 'display_data';\n",
              "          await google.colab.output.renderOutput(dataTable, element);\n",
              "          const docLink = document.createElement('div');\n",
              "          docLink.innerHTML = docLinkHtml;\n",
              "          element.appendChild(docLink);\n",
              "        }\n",
              "      </script>\n",
              "    </div>\n",
              "  </div>\n",
              "  "
            ]
          },
          "metadata": {},
          "execution_count": 38
        }
      ],
      "source": [
        "df3.sort_values('gross_income', ascending=False)"
      ],
      "id": "-5sEFfb8zj-3"
    },
    {
      "cell_type": "markdown",
      "source": [
        "**Bar Graph - genre vs gross income**"
      ],
      "metadata": {
        "id": "ndUYAqdKslby"
      },
      "id": "ndUYAqdKslby"
    },
    {
      "cell_type": "code",
      "source": [
        "df3[['gross_income']].plot.barh(title = 'Gross Income vs Genre', figsize=(20, 10))"
      ],
      "metadata": {
        "colab": {
          "base_uri": "https://localhost:8080/",
          "height": 639
        },
        "id": "kw2iQT5ArwAm",
        "outputId": "f7decd15-e099-4d3f-a901-e90042720ec1"
      },
      "id": "kw2iQT5ArwAm",
      "execution_count": 39,
      "outputs": [
        {
          "output_type": "execute_result",
          "data": {
            "text/plain": [
              "<matplotlib.axes._subplots.AxesSubplot at 0x7f2e8f980950>"
            ]
          },
          "metadata": {},
          "execution_count": 39
        },
        {
          "output_type": "display_data",
          "data": {
            "text/plain": [
              "<Figure size 1440x720 with 1 Axes>"
            ],
            "image/png": "[encoded data removed]"
          },
          "metadata": {
            "needs_background": "light"
          }
        }
      ]
    },
    {
      "cell_type": "markdown",
      "metadata": {
        "id": "d540e1fa"
      },
      "source": [
        "### 10. Which two pairs of Genre is having maximum number of movies?"
      ],
      "id": "d540e1fa"
    },
    {
      "cell_type": "markdown",
      "source": [
        "**Unique genres names**"
      ],
      "metadata": {
        "id": "uEQEs1Aosy4y"
      },
      "id": "uEQEs1Aosy4y"
    },
    {
      "cell_type": "code",
      "execution_count": 40,
      "metadata": {
        "colab": {
          "base_uri": "https://localhost:8080/"
        },
        "id": "afe508dd",
        "outputId": "8ce33bbc-ee85-4710-f484-316027346ad8"
      },
      "outputs": [
        {
          "output_type": "execute_result",
          "data": {
            "text/plain": [
              "array(['Action', 'Comedy', 'Animation', 'Fantasy', 'Thriller',\n",
              "       'Adventure', 'Drama', 'Horror', 'Biography', 'Crime', 'War',\n",
              "       'Sport', 'Musical', 'Music', 'Film-Noir', 'Sci-Fi', 'Mystery',\n",
              "       'Romance', 'Western', 'Family', 'Documentary', 'History', 'Short',\n",
              "       'Game-Show', 'News', 'Reality-TV'], dtype=object)"
            ]
          },
          "metadata": {},
          "execution_count": 40
        }
      ],
      "source": [
        "list1 = df['genres'].unique()\n",
        "list1"
      ],
      "id": "afe508dd"
    },
    {
      "cell_type": "markdown",
      "source": [
        "**Created a seperate dataset as df5 from genre was splitted dataset(df)**"
      ],
      "metadata": {
        "id": "R-Am999ns3R3"
      },
      "id": "R-Am999ns3R3"
    },
    {
      "cell_type": "code",
      "execution_count": 41,
      "metadata": {
        "id": "Ty3Z-mBYqO_p"
      },
      "outputs": [],
      "source": [
        "df5 = pd.DataFrame()"
      ],
      "id": "Ty3Z-mBYqO_p"
    },
    {
      "cell_type": "code",
      "execution_count": 42,
      "metadata": {
        "id": "iIgDNdXoHcgz"
      },
      "outputs": [],
      "source": [
        "df5 = data[['name','genre']]"
      ],
      "id": "iIgDNdXoHcgz"
    },
    {
      "cell_type": "markdown",
      "source": [
        "**Split genre by , (commas)**"
      ],
      "metadata": {
        "id": "eiSYEN1CtBaa"
      },
      "id": "eiSYEN1CtBaa"
    },
    {
      "cell_type": "code",
      "execution_count": 43,
      "metadata": {
        "colab": {
          "base_uri": "https://localhost:8080/",
          "height": 531
        },
        "id": "t91Tly5qLc1Z",
        "outputId": "911a030a-62fd-4f61-df89-49f4edc87e8c"
      },
      "outputs": [
        {
          "output_type": "stream",
          "name": "stderr",
          "text": [
            "/usr/local/lib/python3.7/dist-packages/ipykernel_launcher.py:2: SettingWithCopyWarning: \n",
            "A value is trying to be set on a copy of a slice from a DataFrame.\n",
            "Try using .loc[row_indexer,col_indexer] = value instead\n",
            "\n",
            "See the caveats in the documentation: https://pandas.pydata.org/pandas-docs/stable/user_guide/indexing.html#returning-a-view-versus-a-copy\n",
            "  \n"
          ]
        },
        {
          "output_type": "execute_result",
          "data": {
            "text/plain": [
              "                                    name                            genre\n",
              "0                    Beverly Hills Ninja                [Action,  Comedy]\n",
              "1      Monster High: New Ghoul at School            [Animation,  Fantasy]\n",
              "2          The Killer in the Guest House                       [Thriller]\n",
              "3                             Black Crab     [Action,  Adventure,  Drama]\n",
              "4                                 Unrest              [Horror,  Thriller]\n",
              "...                                  ...                              ...\n",
              "20784                      Born to Dance         [Action,  Drama,  Music]\n",
              "20785                      The Corruptor      [Action,  Crime,  Thriller]\n",
              "20786                              Arena    [Action,  Adventure,  Sci-Fi]\n",
              "20787       Elliot the Littlest Reindeer             [Animation,  Family]\n",
              "20788                 Lawrence of Arabia  [Adventure,  Biography,  Drama]\n",
              "\n",
              "[20789 rows x 2 columns]"
            ],
            "text/html": [
              "\n",
              "  <div id=\"df-031d150c-ed2a-4f42-91fe-9efcffd2f3d1\">\n",
              "    <div class=\"colab-df-container\">\n",
              "      <div>\n",
              "<style scoped>\n",
              "    .dataframe tbody tr th:only-of-type {\n",
              "        vertical-align: middle;\n",
              "    }\n",
              "\n",
              "    .dataframe tbody tr th {\n",
              "        vertical-align: top;\n",
              "    }\n",
              "\n",
              "    .dataframe thead th {\n",
              "        text-align: right;\n",
              "    }\n",
              "</style>\n",
              "<table border=\"1\" class=\"dataframe\">\n",
              "  <thead>\n",
              "    <tr style=\"text-align: right;\">\n",
              "      <th></th>\n",
              "      <th>name</th>\n",
              "      <th>genre</th>\n",
              "    </tr>\n",
              "  </thead>\n",
              "  <tbody>\n",
              "    <tr>\n",
              "      <th>0</th>\n",
              "      <td>Beverly Hills Ninja</td>\n",
              "      <td>[Action,  Comedy]</td>\n",
              "    </tr>\n",
              "    <tr>\n",
              "      <th>1</th>\n",
              "      <td>Monster High: New Ghoul at School</td>\n",
              "      <td>[Animation,  Fantasy]</td>\n",
              "    </tr>\n",
              "    <tr>\n",
              "      <th>2</th>\n",
              "      <td>The Killer in the Guest House</td>\n",
              "      <td>[Thriller]</td>\n",
              "    </tr>\n",
              "    <tr>\n",
              "      <th>3</th>\n",
              "      <td>Black Crab</td>\n",
              "      <td>[Action,  Adventure,  Drama]</td>\n",
              "    </tr>\n",
              "    <tr>\n",
              "      <th>4</th>\n",
              "      <td>Unrest</td>\n",
              "      <td>[Horror,  Thriller]</td>\n",
              "    </tr>\n",
              "    <tr>\n",
              "      <th>...</th>\n",
              "      <td>...</td>\n",
              "      <td>...</td>\n",
              "    </tr>\n",
              "    <tr>\n",
              "      <th>20784</th>\n",
              "      <td>Born to Dance</td>\n",
              "      <td>[Action,  Drama,  Music]</td>\n",
              "    </tr>\n",
              "    <tr>\n",
              "      <th>20785</th>\n",
              "      <td>The Corruptor</td>\n",
              "      <td>[Action,  Crime,  Thriller]</td>\n",
              "    </tr>\n",
              "    <tr>\n",
              "      <th>20786</th>\n",
              "      <td>Arena</td>\n",
              "      <td>[Action,  Adventure,  Sci-Fi]</td>\n",
              "    </tr>\n",
              "    <tr>\n",
              "      <th>20787</th>\n",
              "      <td>Elliot the Littlest Reindeer</td>\n",
              "      <td>[Animation,  Family]</td>\n",
              "    </tr>\n",
              "    <tr>\n",
              "      <th>20788</th>\n",
              "      <td>Lawrence of Arabia</td>\n",
              "      <td>[Adventure,  Biography,  Drama]</td>\n",
              "    </tr>\n",
              "  </tbody>\n",
              "</table>\n",
              "<p>20789 rows × 2 columns</p>\n",
              "</div>\n",
              "      <button class=\"colab-df-convert\" onclick=\"convertToInteractive('df-031d150c-ed2a-4f42-91fe-9efcffd2f3d1')\"\n",
              "              title=\"Convert this dataframe to an interactive table.\"\n",
              "              style=\"display:none;\">\n",
              "        \n",
              "  <svg xmlns=\"http://www.w3.org/2000/svg\" height=\"24px\"viewBox=\"0 0 24 24\"\n",
              "       width=\"24px\">\n",
              "    <path d=\"M0 0h24v24H0V0z\" fill=\"none\"/>\n",
              "    <path d=\"M18.56 5.44l.94 2.06.94-2.06 2.06-.94-2.06-.94-.94-2.06-.94 2.06-2.06.94zm-11 1L8.5 8.5l.94-2.06 2.06-.94-2.06-.94L8.5 2.5l-.94 2.06-2.06.94zm10 10l.94 2.06.94-2.06 2.06-.94-2.06-.94-.94-2.06-.94 2.06-2.06.94z\"/><path d=\"M17.41 7.96l-1.37-1.37c-.4-.4-.92-.59-1.43-.59-.52 0-1.04.2-1.43.59L10.3 9.45l-7.72 7.72c-.78.78-.78 2.05 0 2.83L4 21.41c.39.39.9.59 1.41.59.51 0 1.02-.2 1.41-.59l7.78-7.78 2.81-2.81c.8-.78.8-2.07 0-2.86zM5.41 20L4 18.59l7.72-7.72 1.47 1.35L5.41 20z\"/>\n",
              "  </svg>\n",
              "      </button>\n",
              "      \n",
              "  <style>\n",
              "    .colab-df-container {\n",
              "      display:flex;\n",
              "      flex-wrap:wrap;\n",
              "      gap: 12px;\n",
              "    }\n",
              "\n",
              "    .colab-df-convert {\n",
              "      background-color: #E8F0FE;\n",
              "      border: none;\n",
              "      border-radius: 50%;\n",
              "      cursor: pointer;\n",
              "      display: none;\n",
              "      fill: #1967D2;\n",
              "      height: 32px;\n",
              "      padding: 0 0 0 0;\n",
              "      width: 32px;\n",
              "    }\n",
              "\n",
              "    .colab-df-convert:hover {\n",
              "      background-color: #E2EBFA;\n",
              "      box-shadow: 0px 1px 2px rgba(60, 64, 67, 0.3), 0px 1px 3px 1px rgba(60, 64, 67, 0.15);\n",
              "      fill: #174EA6;\n",
              "    }\n",
              "\n",
              "    [theme=dark] .colab-df-convert {\n",
              "      background-color: #3B4455;\n",
              "      fill: #D2E3FC;\n",
              "    }\n",
              "\n",
              "    [theme=dark] .colab-df-convert:hover {\n",
              "      background-color: #434B5C;\n",
              "      box-shadow: 0px 1px 3px 1px rgba(0, 0, 0, 0.15);\n",
              "      filter: drop-shadow(0px 1px 2px rgba(0, 0, 0, 0.3));\n",
              "      fill: #FFFFFF;\n",
              "    }\n",
              "  </style>\n",
              "\n",
              "      <script>\n",
              "        const buttonEl =\n",
              "          document.querySelector('#df-031d150c-ed2a-4f42-91fe-9efcffd2f3d1 button.colab-df-convert');\n",
              "        buttonEl.style.display =\n",
              "          google.colab.kernel.accessAllowed ? 'block' : 'none';\n",
              "\n",
              "        async function convertToInteractive(key) {\n",
              "          const element = document.querySelector('#df-031d150c-ed2a-4f42-91fe-9efcffd2f3d1');\n",
              "          const dataTable =\n",
              "            await google.colab.kernel.invokeFunction('convertToInteractive',\n",
              "                                                     [key], {});\n",
              "          if (!dataTable) return;\n",
              "\n",
              "          const docLinkHtml = 'Like what you see? Visit the ' +\n",
              "            '<a target=\"_blank\" href=https://colab.research.google.com/notebooks/data_table.ipynb>data table notebook</a>'\n",
              "            + ' to learn more about interactive tables.';\n",
              "          element.innerHTML = '';\n",
              "          dataTable['output_type'] = 'display_data';\n",
              "          await google.colab.output.renderOutput(dataTable, element);\n",
              "          const docLink = document.createElement('div');\n",
              "          docLink.innerHTML = docLinkHtml;\n",
              "          element.appendChild(docLink);\n",
              "        }\n",
              "      </script>\n",
              "    </div>\n",
              "  </div>\n",
              "  "
            ]
          },
          "metadata": {},
          "execution_count": 43
        }
      ],
      "source": [
        "import itertools\n",
        "df5['genre'] = df5['genre'].apply(lambda x: x.split(','))\n",
        "df5"
      ],
      "id": "t91Tly5qLc1Z"
    },
    {
      "cell_type": "markdown",
      "source": [
        "**Creating pairs using combinations**"
      ],
      "metadata": {
        "id": "Kxt3Ia6TtKk6"
      },
      "id": "Kxt3Ia6TtKk6"
    },
    {
      "cell_type": "code",
      "execution_count": 44,
      "metadata": {
        "colab": {
          "base_uri": "https://localhost:8080/",
          "height": 531
        },
        "id": "00Uda00gLvjA",
        "outputId": "98fa8d64-136e-46f1-b8ac-b40737fe360d"
      },
      "outputs": [
        {
          "output_type": "stream",
          "name": "stderr",
          "text": [
            "/usr/local/lib/python3.7/dist-packages/ipykernel_launcher.py:1: SettingWithCopyWarning: \n",
            "A value is trying to be set on a copy of a slice from a DataFrame.\n",
            "Try using .loc[row_indexer,col_indexer] = value instead\n",
            "\n",
            "See the caveats in the documentation: https://pandas.pydata.org/pandas-docs/stable/user_guide/indexing.html#returning-a-view-versus-a-copy\n",
            "  \"\"\"Entry point for launching an IPython kernel.\n"
          ]
        },
        {
          "output_type": "execute_result",
          "data": {
            "text/plain": [
              "                                    name  \\\n",
              "0                    Beverly Hills Ninja   \n",
              "1      Monster High: New Ghoul at School   \n",
              "2          The Killer in the Guest House   \n",
              "3                             Black Crab   \n",
              "4                                 Unrest   \n",
              "...                                  ...   \n",
              "20784                      Born to Dance   \n",
              "20785                      The Corruptor   \n",
              "20786                              Arena   \n",
              "20787       Elliot the Littlest Reindeer   \n",
              "20788                 Lawrence of Arabia   \n",
              "\n",
              "                                                   genre  \n",
              "0                                    [(Action,  Comedy)]  \n",
              "1                                [(Animation,  Fantasy)]  \n",
              "2                                                     []  \n",
              "3      [(Action,  Adventure), (Action,  Drama), ( Adv...  \n",
              "4                                  [(Horror,  Thriller)]  \n",
              "...                                                  ...  \n",
              "20784  [(Action,  Drama), (Action,  Music), ( Drama, ...  \n",
              "20785  [(Action,  Crime), (Action,  Thriller), ( Crim...  \n",
              "20786  [(Action,  Adventure), (Action,  Sci-Fi), ( Ad...  \n",
              "20787                             [(Animation,  Family)]  \n",
              "20788  [(Adventure,  Biography), (Adventure,  Drama),...  \n",
              "\n",
              "[20789 rows x 2 columns]"
            ],
            "text/html": [
              "\n",
              "  <div id=\"df-ab80ab0a-e1a1-489e-b3a4-af32839e0415\">\n",
              "    <div class=\"colab-df-container\">\n",
              "      <div>\n",
              "<style scoped>\n",
              "    .dataframe tbody tr th:only-of-type {\n",
              "        vertical-align: middle;\n",
              "    }\n",
              "\n",
              "    .dataframe tbody tr th {\n",
              "        vertical-align: top;\n",
              "    }\n",
              "\n",
              "    .dataframe thead th {\n",
              "        text-align: right;\n",
              "    }\n",
              "</style>\n",
              "<table border=\"1\" class=\"dataframe\">\n",
              "  <thead>\n",
              "    <tr style=\"text-align: right;\">\n",
              "      <th></th>\n",
              "      <th>name</th>\n",
              "      <th>genre</th>\n",
              "    </tr>\n",
              "  </thead>\n",
              "  <tbody>\n",
              "    <tr>\n",
              "      <th>0</th>\n",
              "      <td>Beverly Hills Ninja</td>\n",
              "      <td>[(Action,  Comedy)]</td>\n",
              "    </tr>\n",
              "    <tr>\n",
              "      <th>1</th>\n",
              "      <td>Monster High: New Ghoul at School</td>\n",
              "      <td>[(Animation,  Fantasy)]</td>\n",
              "    </tr>\n",
              "    <tr>\n",
              "      <th>2</th>\n",
              "      <td>The Killer in the Guest House</td>\n",
              "      <td>[]</td>\n",
              "    </tr>\n",
              "    <tr>\n",
              "      <th>3</th>\n",
              "      <td>Black Crab</td>\n",
              "      <td>[(Action,  Adventure), (Action,  Drama), ( Adv...</td>\n",
              "    </tr>\n",
              "    <tr>\n",
              "      <th>4</th>\n",
              "      <td>Unrest</td>\n",
              "      <td>[(Horror,  Thriller)]</td>\n",
              "    </tr>\n",
              "    <tr>\n",
              "      <th>...</th>\n",
              "      <td>...</td>\n",
              "      <td>...</td>\n",
              "    </tr>\n",
              "    <tr>\n",
              "      <th>20784</th>\n",
              "      <td>Born to Dance</td>\n",
              "      <td>[(Action,  Drama), (Action,  Music), ( Drama, ...</td>\n",
              "    </tr>\n",
              "    <tr>\n",
              "      <th>20785</th>\n",
              "      <td>The Corruptor</td>\n",
              "      <td>[(Action,  Crime), (Action,  Thriller), ( Crim...</td>\n",
              "    </tr>\n",
              "    <tr>\n",
              "      <th>20786</th>\n",
              "      <td>Arena</td>\n",
              "      <td>[(Action,  Adventure), (Action,  Sci-Fi), ( Ad...</td>\n",
              "    </tr>\n",
              "    <tr>\n",
              "      <th>20787</th>\n",
              "      <td>Elliot the Littlest Reindeer</td>\n",
              "      <td>[(Animation,  Family)]</td>\n",
              "    </tr>\n",
              "    <tr>\n",
              "      <th>20788</th>\n",
              "      <td>Lawrence of Arabia</td>\n",
              "      <td>[(Adventure,  Biography), (Adventure,  Drama),...</td>\n",
              "    </tr>\n",
              "  </tbody>\n",
              "</table>\n",
              "<p>20789 rows × 2 columns</p>\n",
              "</div>\n",
              "      <button class=\"colab-df-convert\" onclick=\"convertToInteractive('df-ab80ab0a-e1a1-489e-b3a4-af32839e0415')\"\n",
              "              title=\"Convert this dataframe to an interactive table.\"\n",
              "              style=\"display:none;\">\n",
              "        \n",
              "  <svg xmlns=\"http://www.w3.org/2000/svg\" height=\"24px\"viewBox=\"0 0 24 24\"\n",
              "       width=\"24px\">\n",
              "    <path d=\"M0 0h24v24H0V0z\" fill=\"none\"/>\n",
              "    <path d=\"M18.56 5.44l.94 2.06.94-2.06 2.06-.94-2.06-.94-.94-2.06-.94 2.06-2.06.94zm-11 1L8.5 8.5l.94-2.06 2.06-.94-2.06-.94L8.5 2.5l-.94 2.06-2.06.94zm10 10l.94 2.06.94-2.06 2.06-.94-2.06-.94-.94-2.06-.94 2.06-2.06.94z\"/><path d=\"M17.41 7.96l-1.37-1.37c-.4-.4-.92-.59-1.43-.59-.52 0-1.04.2-1.43.59L10.3 9.45l-7.72 7.72c-.78.78-.78 2.05 0 2.83L4 21.41c.39.39.9.59 1.41.59.51 0 1.02-.2 1.41-.59l7.78-7.78 2.81-2.81c.8-.78.8-2.07 0-2.86zM5.41 20L4 18.59l7.72-7.72 1.47 1.35L5.41 20z\"/>\n",
              "  </svg>\n",
              "      </button>\n",
              "      \n",
              "  <style>\n",
              "    .colab-df-container {\n",
              "      display:flex;\n",
              "      flex-wrap:wrap;\n",
              "      gap: 12px;\n",
              "    }\n",
              "\n",
              "    .colab-df-convert {\n",
              "      background-color: #E8F0FE;\n",
              "      border: none;\n",
              "      border-radius: 50%;\n",
              "      cursor: pointer;\n",
              "      display: none;\n",
              "      fill: #1967D2;\n",
              "      height: 32px;\n",
              "      padding: 0 0 0 0;\n",
              "      width: 32px;\n",
              "    }\n",
              "\n",
              "    .colab-df-convert:hover {\n",
              "      background-color: #E2EBFA;\n",
              "      box-shadow: 0px 1px 2px rgba(60, 64, 67, 0.3), 0px 1px 3px 1px rgba(60, 64, 67, 0.15);\n",
              "      fill: #174EA6;\n",
              "    }\n",
              "\n",
              "    [theme=dark] .colab-df-convert {\n",
              "      background-color: #3B4455;\n",
              "      fill: #D2E3FC;\n",
              "    }\n",
              "\n",
              "    [theme=dark] .colab-df-convert:hover {\n",
              "      background-color: #434B5C;\n",
              "      box-shadow: 0px 1px 3px 1px rgba(0, 0, 0, 0.15);\n",
              "      filter: drop-shadow(0px 1px 2px rgba(0, 0, 0, 0.3));\n",
              "      fill: #FFFFFF;\n",
              "    }\n",
              "  </style>\n",
              "\n",
              "      <script>\n",
              "        const buttonEl =\n",
              "          document.querySelector('#df-ab80ab0a-e1a1-489e-b3a4-af32839e0415 button.colab-df-convert');\n",
              "        buttonEl.style.display =\n",
              "          google.colab.kernel.accessAllowed ? 'block' : 'none';\n",
              "\n",
              "        async function convertToInteractive(key) {\n",
              "          const element = document.querySelector('#df-ab80ab0a-e1a1-489e-b3a4-af32839e0415');\n",
              "          const dataTable =\n",
              "            await google.colab.kernel.invokeFunction('convertToInteractive',\n",
              "                                                     [key], {});\n",
              "          if (!dataTable) return;\n",
              "\n",
              "          const docLinkHtml = 'Like what you see? Visit the ' +\n",
              "            '<a target=\"_blank\" href=https://colab.research.google.com/notebooks/data_table.ipynb>data table notebook</a>'\n",
              "            + ' to learn more about interactive tables.';\n",
              "          element.innerHTML = '';\n",
              "          dataTable['output_type'] = 'display_data';\n",
              "          await google.colab.output.renderOutput(dataTable, element);\n",
              "          const docLink = document.createElement('div');\n",
              "          docLink.innerHTML = docLinkHtml;\n",
              "          element.appendChild(docLink);\n",
              "        }\n",
              "      </script>\n",
              "    </div>\n",
              "  </div>\n",
              "  "
            ]
          },
          "metadata": {},
          "execution_count": 44
        }
      ],
      "source": [
        "df5['genre'] = df5['genre'].apply(lambda x: list(itertools.combinations(x, 2)))\n",
        "df5"
      ],
      "id": "00Uda00gLvjA"
    },
    {
      "cell_type": "markdown",
      "source": [
        "**Each element from genre is splitted in each row using explode**"
      ],
      "metadata": {
        "id": "CcnHqqKstc66"
      },
      "id": "CcnHqqKstc66"
    },
    {
      "cell_type": "code",
      "execution_count": 45,
      "metadata": {
        "colab": {
          "base_uri": "https://localhost:8080/",
          "height": 424
        },
        "id": "GQJ8x-WsL-gD",
        "outputId": "dbcd1ab9-7d9f-49b7-f781-7480805ba296"
      },
      "outputs": [
        {
          "output_type": "execute_result",
          "data": {
            "text/plain": [
              "                                    name                    genre\n",
              "0                    Beverly Hills Ninja        (Action,  Comedy)\n",
              "1      Monster High: New Ghoul at School    (Animation,  Fantasy)\n",
              "2          The Killer in the Guest House                      NaN\n",
              "3                             Black Crab     (Action,  Adventure)\n",
              "3                             Black Crab         (Action,  Drama)\n",
              "...                                  ...                      ...\n",
              "20786                              Arena    ( Adventure,  Sci-Fi)\n",
              "20787       Elliot the Littlest Reindeer     (Animation,  Family)\n",
              "20788                 Lawrence of Arabia  (Adventure,  Biography)\n",
              "20788                 Lawrence of Arabia      (Adventure,  Drama)\n",
              "20788                 Lawrence of Arabia     ( Biography,  Drama)\n",
              "\n",
              "[48243 rows x 2 columns]"
            ],
            "text/html": [
              "\n",
              "  <div id=\"df-280460b6-407b-4db8-bb15-d927b2cc7d64\">\n",
              "    <div class=\"colab-df-container\">\n",
              "      <div>\n",
              "<style scoped>\n",
              "    .dataframe tbody tr th:only-of-type {\n",
              "        vertical-align: middle;\n",
              "    }\n",
              "\n",
              "    .dataframe tbody tr th {\n",
              "        vertical-align: top;\n",
              "    }\n",
              "\n",
              "    .dataframe thead th {\n",
              "        text-align: right;\n",
              "    }\n",
              "</style>\n",
              "<table border=\"1\" class=\"dataframe\">\n",
              "  <thead>\n",
              "    <tr style=\"text-align: right;\">\n",
              "      <th></th>\n",
              "      <th>name</th>\n",
              "      <th>genre</th>\n",
              "    </tr>\n",
              "  </thead>\n",
              "  <tbody>\n",
              "    <tr>\n",
              "      <th>0</th>\n",
              "      <td>Beverly Hills Ninja</td>\n",
              "      <td>(Action,  Comedy)</td>\n",
              "    </tr>\n",
              "    <tr>\n",
              "      <th>1</th>\n",
              "      <td>Monster High: New Ghoul at School</td>\n",
              "      <td>(Animation,  Fantasy)</td>\n",
              "    </tr>\n",
              "    <tr>\n",
              "      <th>2</th>\n",
              "      <td>The Killer in the Guest House</td>\n",
              "      <td>NaN</td>\n",
              "    </tr>\n",
              "    <tr>\n",
              "      <th>3</th>\n",
              "      <td>Black Crab</td>\n",
              "      <td>(Action,  Adventure)</td>\n",
              "    </tr>\n",
              "    <tr>\n",
              "      <th>3</th>\n",
              "      <td>Black Crab</td>\n",
              "      <td>(Action,  Drama)</td>\n",
              "    </tr>\n",
              "    <tr>\n",
              "      <th>...</th>\n",
              "      <td>...</td>\n",
              "      <td>...</td>\n",
              "    </tr>\n",
              "    <tr>\n",
              "      <th>20786</th>\n",
              "      <td>Arena</td>\n",
              "      <td>( Adventure,  Sci-Fi)</td>\n",
              "    </tr>\n",
              "    <tr>\n",
              "      <th>20787</th>\n",
              "      <td>Elliot the Littlest Reindeer</td>\n",
              "      <td>(Animation,  Family)</td>\n",
              "    </tr>\n",
              "    <tr>\n",
              "      <th>20788</th>\n",
              "      <td>Lawrence of Arabia</td>\n",
              "      <td>(Adventure,  Biography)</td>\n",
              "    </tr>\n",
              "    <tr>\n",
              "      <th>20788</th>\n",
              "      <td>Lawrence of Arabia</td>\n",
              "      <td>(Adventure,  Drama)</td>\n",
              "    </tr>\n",
              "    <tr>\n",
              "      <th>20788</th>\n",
              "      <td>Lawrence of Arabia</td>\n",
              "      <td>( Biography,  Drama)</td>\n",
              "    </tr>\n",
              "  </tbody>\n",
              "</table>\n",
              "<p>48243 rows × 2 columns</p>\n",
              "</div>\n",
              "      <button class=\"colab-df-convert\" onclick=\"convertToInteractive('df-280460b6-407b-4db8-bb15-d927b2cc7d64')\"\n",
              "              title=\"Convert this dataframe to an interactive table.\"\n",
              "              style=\"display:none;\">\n",
              "        \n",
              "  <svg xmlns=\"http://www.w3.org/2000/svg\" height=\"24px\"viewBox=\"0 0 24 24\"\n",
              "       width=\"24px\">\n",
              "    <path d=\"M0 0h24v24H0V0z\" fill=\"none\"/>\n",
              "    <path d=\"M18.56 5.44l.94 2.06.94-2.06 2.06-.94-2.06-.94-.94-2.06-.94 2.06-2.06.94zm-11 1L8.5 8.5l.94-2.06 2.06-.94-2.06-.94L8.5 2.5l-.94 2.06-2.06.94zm10 10l.94 2.06.94-2.06 2.06-.94-2.06-.94-.94-2.06-.94 2.06-2.06.94z\"/><path d=\"M17.41 7.96l-1.37-1.37c-.4-.4-.92-.59-1.43-.59-.52 0-1.04.2-1.43.59L10.3 9.45l-7.72 7.72c-.78.78-.78 2.05 0 2.83L4 21.41c.39.39.9.59 1.41.59.51 0 1.02-.2 1.41-.59l7.78-7.78 2.81-2.81c.8-.78.8-2.07 0-2.86zM5.41 20L4 18.59l7.72-7.72 1.47 1.35L5.41 20z\"/>\n",
              "  </svg>\n",
              "      </button>\n",
              "      \n",
              "  <style>\n",
              "    .colab-df-container {\n",
              "      display:flex;\n",
              "      flex-wrap:wrap;\n",
              "      gap: 12px;\n",
              "    }\n",
              "\n",
              "    .colab-df-convert {\n",
              "      background-color: #E8F0FE;\n",
              "      border: none;\n",
              "      border-radius: 50%;\n",
              "      cursor: pointer;\n",
              "      display: none;\n",
              "      fill: #1967D2;\n",
              "      height: 32px;\n",
              "      padding: 0 0 0 0;\n",
              "      width: 32px;\n",
              "    }\n",
              "\n",
              "    .colab-df-convert:hover {\n",
              "      background-color: #E2EBFA;\n",
              "      box-shadow: 0px 1px 2px rgba(60, 64, 67, 0.3), 0px 1px 3px 1px rgba(60, 64, 67, 0.15);\n",
              "      fill: #174EA6;\n",
              "    }\n",
              "\n",
              "    [theme=dark] .colab-df-convert {\n",
              "      background-color: #3B4455;\n",
              "      fill: #D2E3FC;\n",
              "    }\n",
              "\n",
              "    [theme=dark] .colab-df-convert:hover {\n",
              "      background-color: #434B5C;\n",
              "      box-shadow: 0px 1px 3px 1px rgba(0, 0, 0, 0.15);\n",
              "      filter: drop-shadow(0px 1px 2px rgba(0, 0, 0, 0.3));\n",
              "      fill: #FFFFFF;\n",
              "    }\n",
              "  </style>\n",
              "\n",
              "      <script>\n",
              "        const buttonEl =\n",
              "          document.querySelector('#df-280460b6-407b-4db8-bb15-d927b2cc7d64 button.colab-df-convert');\n",
              "        buttonEl.style.display =\n",
              "          google.colab.kernel.accessAllowed ? 'block' : 'none';\n",
              "\n",
              "        async function convertToInteractive(key) {\n",
              "          const element = document.querySelector('#df-280460b6-407b-4db8-bb15-d927b2cc7d64');\n",
              "          const dataTable =\n",
              "            await google.colab.kernel.invokeFunction('convertToInteractive',\n",
              "                                                     [key], {});\n",
              "          if (!dataTable) return;\n",
              "\n",
              "          const docLinkHtml = 'Like what you see? Visit the ' +\n",
              "            '<a target=\"_blank\" href=https://colab.research.google.com/notebooks/data_table.ipynb>data table notebook</a>'\n",
              "            + ' to learn more about interactive tables.';\n",
              "          element.innerHTML = '';\n",
              "          dataTable['output_type'] = 'display_data';\n",
              "          await google.colab.output.renderOutput(dataTable, element);\n",
              "          const docLink = document.createElement('div');\n",
              "          docLink.innerHTML = docLinkHtml;\n",
              "          element.appendChild(docLink);\n",
              "        }\n",
              "      </script>\n",
              "    </div>\n",
              "  </div>\n",
              "  "
            ]
          },
          "metadata": {},
          "execution_count": 45
        }
      ],
      "source": [
        "df5 = df5.explode(\"genre\")\n",
        "df5"
      ],
      "id": "GQJ8x-WsL-gD"
    },
    {
      "cell_type": "markdown",
      "source": [
        "**Convert genre set to string**"
      ],
      "metadata": {
        "id": "YBoz5RUytudj"
      },
      "id": "YBoz5RUytudj"
    },
    {
      "cell_type": "code",
      "execution_count": 46,
      "metadata": {
        "colab": {
          "base_uri": "https://localhost:8080/",
          "height": 424
        },
        "id": "ZLjiLskOMNwS",
        "outputId": "56043b58-6e73-4afe-f439-cc8eb63191a9"
      },
      "outputs": [
        {
          "output_type": "execute_result",
          "data": {
            "text/plain": [
              "                                    name                        genre\n",
              "0                    Beverly Hills Ninja        ('Action', ' Comedy')\n",
              "1      Monster High: New Ghoul at School    ('Animation', ' Fantasy')\n",
              "2          The Killer in the Guest House                          nan\n",
              "3                             Black Crab     ('Action', ' Adventure')\n",
              "3                             Black Crab         ('Action', ' Drama')\n",
              "...                                  ...                          ...\n",
              "20786                              Arena    (' Adventure', ' Sci-Fi')\n",
              "20787       Elliot the Littlest Reindeer     ('Animation', ' Family')\n",
              "20788                 Lawrence of Arabia  ('Adventure', ' Biography')\n",
              "20788                 Lawrence of Arabia      ('Adventure', ' Drama')\n",
              "20788                 Lawrence of Arabia     (' Biography', ' Drama')\n",
              "\n",
              "[48243 rows x 2 columns]"
            ],
            "text/html": [
              "\n",
              "  <div id=\"df-719f8c2c-7c34-4f73-a2d2-40a3fb89bda0\">\n",
              "    <div class=\"colab-df-container\">\n",
              "      <div>\n",
              "<style scoped>\n",
              "    .dataframe tbody tr th:only-of-type {\n",
              "        vertical-align: middle;\n",
              "    }\n",
              "\n",
              "    .dataframe tbody tr th {\n",
              "        vertical-align: top;\n",
              "    }\n",
              "\n",
              "    .dataframe thead th {\n",
              "        text-align: right;\n",
              "    }\n",
              "</style>\n",
              "<table border=\"1\" class=\"dataframe\">\n",
              "  <thead>\n",
              "    <tr style=\"text-align: right;\">\n",
              "      <th></th>\n",
              "      <th>name</th>\n",
              "      <th>genre</th>\n",
              "    </tr>\n",
              "  </thead>\n",
              "  <tbody>\n",
              "    <tr>\n",
              "      <th>0</th>\n",
              "      <td>Beverly Hills Ninja</td>\n",
              "      <td>('Action', ' Comedy')</td>\n",
              "    </tr>\n",
              "    <tr>\n",
              "      <th>1</th>\n",
              "      <td>Monster High: New Ghoul at School</td>\n",
              "      <td>('Animation', ' Fantasy')</td>\n",
              "    </tr>\n",
              "    <tr>\n",
              "      <th>2</th>\n",
              "      <td>The Killer in the Guest House</td>\n",
              "      <td>nan</td>\n",
              "    </tr>\n",
              "    <tr>\n",
              "      <th>3</th>\n",
              "      <td>Black Crab</td>\n",
              "      <td>('Action', ' Adventure')</td>\n",
              "    </tr>\n",
              "    <tr>\n",
              "      <th>3</th>\n",
              "      <td>Black Crab</td>\n",
              "      <td>('Action', ' Drama')</td>\n",
              "    </tr>\n",
              "    <tr>\n",
              "      <th>...</th>\n",
              "      <td>...</td>\n",
              "      <td>...</td>\n",
              "    </tr>\n",
              "    <tr>\n",
              "      <th>20786</th>\n",
              "      <td>Arena</td>\n",
              "      <td>(' Adventure', ' Sci-Fi')</td>\n",
              "    </tr>\n",
              "    <tr>\n",
              "      <th>20787</th>\n",
              "      <td>Elliot the Littlest Reindeer</td>\n",
              "      <td>('Animation', ' Family')</td>\n",
              "    </tr>\n",
              "    <tr>\n",
              "      <th>20788</th>\n",
              "      <td>Lawrence of Arabia</td>\n",
              "      <td>('Adventure', ' Biography')</td>\n",
              "    </tr>\n",
              "    <tr>\n",
              "      <th>20788</th>\n",
              "      <td>Lawrence of Arabia</td>\n",
              "      <td>('Adventure', ' Drama')</td>\n",
              "    </tr>\n",
              "    <tr>\n",
              "      <th>20788</th>\n",
              "      <td>Lawrence of Arabia</td>\n",
              "      <td>(' Biography', ' Drama')</td>\n",
              "    </tr>\n",
              "  </tbody>\n",
              "</table>\n",
              "<p>48243 rows × 2 columns</p>\n",
              "</div>\n",
              "      <button class=\"colab-df-convert\" onclick=\"convertToInteractive('df-719f8c2c-7c34-4f73-a2d2-40a3fb89bda0')\"\n",
              "              title=\"Convert this dataframe to an interactive table.\"\n",
              "              style=\"display:none;\">\n",
              "        \n",
              "  <svg xmlns=\"http://www.w3.org/2000/svg\" height=\"24px\"viewBox=\"0 0 24 24\"\n",
              "       width=\"24px\">\n",
              "    <path d=\"M0 0h24v24H0V0z\" fill=\"none\"/>\n",
              "    <path d=\"M18.56 5.44l.94 2.06.94-2.06 2.06-.94-2.06-.94-.94-2.06-.94 2.06-2.06.94zm-11 1L8.5 8.5l.94-2.06 2.06-.94-2.06-.94L8.5 2.5l-.94 2.06-2.06.94zm10 10l.94 2.06.94-2.06 2.06-.94-2.06-.94-.94-2.06-.94 2.06-2.06.94z\"/><path d=\"M17.41 7.96l-1.37-1.37c-.4-.4-.92-.59-1.43-.59-.52 0-1.04.2-1.43.59L10.3 9.45l-7.72 7.72c-.78.78-.78 2.05 0 2.83L4 21.41c.39.39.9.59 1.41.59.51 0 1.02-.2 1.41-.59l7.78-7.78 2.81-2.81c.8-.78.8-2.07 0-2.86zM5.41 20L4 18.59l7.72-7.72 1.47 1.35L5.41 20z\"/>\n",
              "  </svg>\n",
              "      </button>\n",
              "      \n",
              "  <style>\n",
              "    .colab-df-container {\n",
              "      display:flex;\n",
              "      flex-wrap:wrap;\n",
              "      gap: 12px;\n",
              "    }\n",
              "\n",
              "    .colab-df-convert {\n",
              "      background-color: #E8F0FE;\n",
              "      border: none;\n",
              "      border-radius: 50%;\n",
              "      cursor: pointer;\n",
              "      display: none;\n",
              "      fill: #1967D2;\n",
              "      height: 32px;\n",
              "      padding: 0 0 0 0;\n",
              "      width: 32px;\n",
              "    }\n",
              "\n",
              "    .colab-df-convert:hover {\n",
              "      background-color: #E2EBFA;\n",
              "      box-shadow: 0px 1px 2px rgba(60, 64, 67, 0.3), 0px 1px 3px 1px rgba(60, 64, 67, 0.15);\n",
              "      fill: #174EA6;\n",
              "    }\n",
              "\n",
              "    [theme=dark] .colab-df-convert {\n",
              "      background-color: #3B4455;\n",
              "      fill: #D2E3FC;\n",
              "    }\n",
              "\n",
              "    [theme=dark] .colab-df-convert:hover {\n",
              "      background-color: #434B5C;\n",
              "      box-shadow: 0px 1px 3px 1px rgba(0, 0, 0, 0.15);\n",
              "      filter: drop-shadow(0px 1px 2px rgba(0, 0, 0, 0.3));\n",
              "      fill: #FFFFFF;\n",
              "    }\n",
              "  </style>\n",
              "\n",
              "      <script>\n",
              "        const buttonEl =\n",
              "          document.querySelector('#df-719f8c2c-7c34-4f73-a2d2-40a3fb89bda0 button.colab-df-convert');\n",
              "        buttonEl.style.display =\n",
              "          google.colab.kernel.accessAllowed ? 'block' : 'none';\n",
              "\n",
              "        async function convertToInteractive(key) {\n",
              "          const element = document.querySelector('#df-719f8c2c-7c34-4f73-a2d2-40a3fb89bda0');\n",
              "          const dataTable =\n",
              "            await google.colab.kernel.invokeFunction('convertToInteractive',\n",
              "                                                     [key], {});\n",
              "          if (!dataTable) return;\n",
              "\n",
              "          const docLinkHtml = 'Like what you see? Visit the ' +\n",
              "            '<a target=\"_blank\" href=https://colab.research.google.com/notebooks/data_table.ipynb>data table notebook</a>'\n",
              "            + ' to learn more about interactive tables.';\n",
              "          element.innerHTML = '';\n",
              "          dataTable['output_type'] = 'display_data';\n",
              "          await google.colab.output.renderOutput(dataTable, element);\n",
              "          const docLink = document.createElement('div');\n",
              "          docLink.innerHTML = docLinkHtml;\n",
              "          element.appendChild(docLink);\n",
              "        }\n",
              "      </script>\n",
              "    </div>\n",
              "  </div>\n",
              "  "
            ]
          },
          "metadata": {},
          "execution_count": 46
        }
      ],
      "source": [
        "df5['genre'] = df5['genre'].astype(str)\n",
        "df5"
      ],
      "id": "ZLjiLskOMNwS"
    },
    {
      "cell_type": "markdown",
      "source": [
        "**Fetching the pair which has maximum number of movies**"
      ],
      "metadata": {
        "id": "_sfs1JBht-VF"
      },
      "id": "_sfs1JBht-VF"
    },
    {
      "cell_type": "code",
      "execution_count": 47,
      "metadata": {
        "colab": {
          "base_uri": "https://localhost:8080/"
        },
        "id": "XxtJb5eHT-42",
        "outputId": "63b2fe99-c2b9-4f03-b334-69e4bf3b59b8"
      },
      "outputs": [
        {
          "output_type": "execute_result",
          "data": {
            "text/plain": [
              "genre\n",
              "('Crime', ' Drama')    1968\n",
              "dtype: int64"
            ]
          },
          "metadata": {},
          "execution_count": 47
        }
      ],
      "source": [
        "df5.groupby('genre').size().sort_values(ascending=False).head(1)\n"
      ],
      "id": "XxtJb5eHT-42"
    }
  ],
  "metadata": {
    "accelerator": "GPU",
    "colab": {
      "collapsed_sections": [],
      "provenance": []
    },
    "kernelspec": {
      "display_name": "Python 3 (ipykernel)",
      "language": "python",
      "name": "python3"
    },
    "language_info": {
      "codemirror_mode": {
        "name": "ipython",
        "version": 3
      },
      "file_extension": ".py",
      "mimetype": "text/x-python",
      "name": "python",
      "nbconvert_exporter": "python",
      "pygments_lexer": "ipython3",
      "version": "3.9.6"
    }
  },
  "nbformat": 4,
  "nbformat_minor": 5
}